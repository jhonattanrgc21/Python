{
 "cells": [
  {
   "cell_type": "markdown",
   "metadata": {},
   "source": [
    "![imagenes](imagenes/logocc.png)"
   ]
  },
  {
   "cell_type": "markdown",
   "metadata": {},
   "source": [
    "En este tutorial aprenderemos cómo gestionar distintos entornos virtuales Python con virtualenv. También cómo gestionar las dependencias, paquetes y librerías de un proyecto haciendo uso de la herramienta pip. Si tienes cualquier duda al respecto, puedes dejarme un comentario o ponerte en contacto conmigo."
   ]
  },
  {
   "cell_type": "markdown",
   "metadata": {},
   "source": [
    "### Versiones de Python y rutas de instalación\n",
    "\n",
    "Antes de proceder a la creación de un entorno virtual conviene conocer qué versiones de Python tenemos instaladas en el sistema:\n",
    "``` python\n",
    "$ python2 -V\n",
    "Python 2.7.6\n",
    "\n",
    "$ python3 -V\n",
    "Python 3.4.0\n",
    "```\n",
    "También, si vamos a utilizar el módulo virtualenv será necesario identificar las rutas de instalación de los intérpretes:\n",
    "\n",
    "- En sistemas Linux:\n",
    "\n",
    "``` python\n",
    "$ which python2\n",
    "/usr/bin/python2\n",
    "\n",
    "$ which python3\n",
    "/usr/bin/python3\n",
    "```\n",
    "- En sistemas Windows la ruta de un intérprete Python la podemos consultar en la variable de entorno PATH o con el método sys.executable:\n",
    "``` python\n",
    "C:\\> echo %PATH%\n",
    "C:\\windows\\system32;C:\\Python27;C:\\Python27\\Script;C:\\Python34;C:\\Python34\\Scripts;C:\\Program Files\\Geany\\bin\n",
    "```\n",
    "o desde el entorno interactivo Python\n",
    "\n",
    "\n",
    "``` python\n",
    ">>> import sys\n",
    ">>> sys.executable\n",
    "'C:\\\\Python34\\\\python3.exe'\n",
    "```\n"
   ]
  },
  {
   "cell_type": "markdown",
   "metadata": {},
   "source": [
    "# Entornos virtuales.\n",
    "\n",
    "Cuando se tiene  varios proyectos de desarrollo en Python es muy conveniente separar las bibliotecas que utiliza un proyecto en particular de las bibliotecas principales del sistema, en especial cuando los usuarios no cuentan con permisos de administrador."
   ]
  },
  {
   "cell_type": "markdown",
   "metadata": {},
   "source": [
    "**NOTA:**\n",
    "En el caso de estar usando la máquina virtual de Pythonista®, el sistema ya se encuentra utilizando un entorno virtual localizado en */home/oi/pythonista/*. En el caso de estar usando Anaconda, ésta genera su propio entorno virtual."
   ]
  },
  {
   "cell_type": "markdown",
   "metadata": {},
   "source": [
    "## Directorios de busqueda de bibliotecas de módulos.\n",
    "Como se discutió previamente, Python define las rutas en las cuales puede acceder a las diveras bibliotecas de módulos, las cuales pueden ser consultadas y/o modificadas mediante *sys.path*."
   ]
  },
  {
   "cell_type": "code",
   "execution_count": null,
   "metadata": {},
   "outputs": [],
   "source": [
    "from sys import path  \n",
    "path"
   ]
  },
  {
   "cell_type": "markdown",
   "metadata": {},
   "source": [
    "Los entornos virtuales permiten indicarle a Python que utilice otra ruta por defecto desde la línea de comando o el símbolo del sistema."
   ]
  },
  {
   "cell_type": "markdown",
   "metadata": {},
   "source": [
    "### Creando y usando un entorno virtual con venv \n",
    "\n",
    "- En Linux:\n",
    "``` python\n",
    "$ python3 -m venv virtual\n",
    "$ cd virtual\n",
    "$ source bin/activate\n",
    "```\n",
    "- En Windows:\n",
    "``` python\n",
    "C:\\> python3 -m venv virtual\n",
    "C:\\> cd virtual\n",
    "C:\\virtual> Scripts\\activate.bat\n",
    "```\n",
    "También, para crear un entorno virtual podemos utilizar el script ***pyvenv.py***:\n",
    "\n",
    "- En Linux:\n",
    "``` python\n",
    "$ pyvenv-3.4 virtual\n",
    "$ cd virtual\n",
    "$ source bin/activate\n",
    "```\n",
    "- En Windows:\n",
    "``` python\n",
    "C:\\>python3 c:\\Python34\\Tools\\Scripts\\pyvenv.py virtual\n",
    "C:\\> cd virtual\n",
    "C:\\virtual> Scripts\\activate\n",
    "```\n",
    "En este punto ya hemos creado y activado el entorno virtual.\n",
    "\n",
    "Si todo ha ido bien, realizaremos algunas operaciones en dicho entorno (Los comandos serán los mismos tanto para el sistema Linux como para Windows).\n",
    "\n",
    "Para consultar los módulos del entorno virtual:\n",
    "``` python\n",
    "(virtual) $ pip3 list\n",
    "pip (6.0.8)\n",
    "setuptools (12.0.5)\n",
    "```\n",
    "\n",
    "Para añadir nuevos módulos al entorno virtual (p.e.: ipython, easygui):\n",
    "``` python\n",
    "(virtual) $ pip3 install easygui\n",
    "(virtual) $ pip3 install ipython\n",
    "```\n",
    "\n",
    "Para consultar documentación de alguno de los módulos instalados:\n",
    "``` python\n",
    "$ python3 -m pydoc easygui\n",
    "$ python3 -m pydoc -w ipython\n",
    "```\n",
    "\n",
    "Para conocer la ruta del intérprete que estamos utilizando:\n",
    "``` python\n",
    "(virtual) $ which python3\n",
    "/home/usuario/virtual/bin/python3\n",
    "```\n",
    "\n",
    "Para ejecutar un programa o script python desde la línea de comandos:\n",
    "``` python\n",
    "(virtual) $ python3 programa.py\n",
    "```\n",
    "Para desactivar el entorno virtual:\n",
    "\n",
    "- En Linux:\n",
    "``` python\n",
    "(virtual) $ deactivate\n",
    "```\n",
    "- En Windows:\n",
    "``` python\n",
    "(virtual) C:\\virtual> Scripts\\deactivate.bat\n",
    "```"
   ]
  },
  {
   "cell_type": "markdown",
   "metadata": {},
   "source": [
    "### El paquete *virtualenv*\n",
    "Este paquete copia los elementos mínimos para conformar una biblioteca de Python en el directorio indicado, incluyendo una versión propia de *pip* y *setuptools*. Tenemos que instalarlo si la versión de Python instalada es anterior a 3.3. o si queremos utilizarlo con alguna versión 2.x."
   ]
  },
  {
   "cell_type": "code",
   "execution_count": null,
   "metadata": {},
   "outputs": [],
   "source": [
    "!pip install virtualenv"
   ]
  },
  {
   "cell_type": "code",
   "execution_count": null,
   "metadata": {},
   "outputs": [],
   "source": [
    "!mkdir prueba"
   ]
  },
  {
   "cell_type": "code",
   "execution_count": null,
   "metadata": {
    "scrolled": false
   },
   "outputs": [],
   "source": [
    "!virtualenv prueba"
   ]
  },
  {
   "cell_type": "markdown",
   "metadata": {},
   "source": [
    "Esto creará el directorio prueba, el cuál contiene el entorno virtual:\n",
    "```\n",
    "/tutorial-virtualenv\n",
    "|__/prueba\n",
    "   |__/bin\n",
    "   |__/include\n",
    "   |__/lib\n",
    "```\n",
    "El directorio bin (se llama Scripts en Windows) contiene los ejecutables: como el intérprete de Python o pip. Por su parte, los directorios include y lib contienen las librerías necesarias para correr nuestro código. Las librerías de terceros se instalarán en prueba/lib/pythonX.X/site-packages/.\n",
    "En mi caso, yo tengo dos versiones de Python instaladas: Python 2.7 (venía instalada con el sistema) y Python 3.6.\n",
    "\n",
    "Python 2.7 es la versión por defecto y está instalada en /usr/bin, mientras que Python 3.6 lo está en /usr/local/bin. ¿Cómo indico a virtualenv qué versión de Python usar? Si no indicamos nada, virtualenv tendrá en cuenta la versión por defecto de Python. En el ejemplo, la versión de Python del entorno virtual es la 2.7. Si queremos usar la versión 3.6, debemos indicarle la ruta en la que se encuentra el intérprete de Python a utilizar, por ejemplo:\n",
    "\n",
    "$> virtualenv -p /usr/local/bin/python3.6 env"
   ]
  },
  {
   "cell_type": "markdown",
   "metadata": {},
   "source": [
    "### Habilitando el entorno virtual.\n",
    "En el paso anterior creamos nuestro entorno virtual, sin embargo, si instalamos cualquier paquete no lo haremos en dicho entorno. Para habilitar el nuevo entorno virtual, es necesario modificar las variables de entorno desde una terminal. Estas modificaciones sólo tendrán efecto en la terminal en cuestión.\n",
    "\n",
    "#### Para Linux y MacOS X:\n",
    "```\n",
    "source <directorio>/bin/activate\n",
    "```\n",
    "\n",
    "#### Para Windows:\n",
    "\n",
    "```\n",
    "<directorio>\\Scripts\\activate.bat\n",
    "```\n",
    "\n",
    "Sabremos que estamos dentro del entorno virtual porque el prompt del terminal comienza con (prueba):\n",
    "\n",
    "Una vez que el entorno está habilitado, todos los paquetes instalados mediante *pip*, se instalarán en el directorio del entorno virtual, dejando la biblioteca principal del sistema, intacta. "
   ]
  },
  {
   "cell_type": "markdown",
   "metadata": {},
   "source": [
    "**Ejemplo:**\n",
    "\n",
    "Para habilitar al entorno virtual localizado en *[prueba](prueba)* es necesario ejecutar lo siguiente desde una terminal en Linux desde el directorio en el que se encuentra esta notebook.\n",
    "\n",
    "Para conocer el directorio en el se se encuentra la notebook se utiliza el siguiente comando mágico de Jupyter:"
   ]
  },
  {
   "cell_type": "code",
   "execution_count": null,
   "metadata": {},
   "outputs": [],
   "source": [
    "%pwd"
   ]
  },
  {
   "cell_type": "markdown",
   "metadata": {},
   "source": [
    "``` bash \n",
    "$ source prueba/bin/activate\n",
    "```"
   ]
  },
  {
   "cell_type": "markdown",
   "metadata": {},
   "source": [
    "**Advertencia:** \n",
    "\n",
    "En caso de tratar de activar un entorno virtual desde una notebook de Jupyter, la celda desde la que se ejecutaría el comado *source* se bloquearía y debería reiniciar el kernel."
   ]
  },
  {
   "cell_type": "markdown",
   "metadata": {},
   "source": [
    "### Deshabilitando el entorno virtual.\n",
    "\n",
    "Para salir del entorno virtual se utiliza el comando:\n",
    "```\n",
    "deactivate\n",
    "``` \n",
    "En cualquier plataforma."
   ]
  },
  {
   "cell_type": "markdown",
   "metadata": {},
   "source": [
    "### requirements.txt\n",
    "\n",
    "Por regla general, los proyectos Python suelen distribuirse con un fichero llamado requirements.txt. Este fichero contiene un listado con todas las librerías de las que depende el proyecto, junto con sus números de versión.\n",
    "\n",
    "Los pasos para migrar un proyecto de una máquina a otra o desde un repositorio de código suelen ser:\n",
    "\n",
    "    – Crear el entorno virtual con virtualenv\n",
    "    – Activar el entorno\n",
    "    – Instalar las dependencias indicadas en el fichero requirements.txt\n",
    "\n",
    "Para instalar las librerías listadas en el fichero requirements.txt, basta con ejecutar el siguiente comando:\n",
    "\n",
    "$> pip install -r requirements.txt"
   ]
  },
  {
   "cell_type": "markdown",
   "metadata": {},
   "source": [
    "### Consideraciones a tener en cuenta\n",
    "\n",
    "Cuando se trabaja con virtualenv, debes tener en cuenta las siguientes cosas:\n",
    "\n",
    "    ✔️ El entorno virtual hace uso de rutas absolutas. Si copias y pegas para duplicar, te llevas el entorno a otra máquina o cambias el nombre de algún directorio que esté incluido en la ruta de tu proyecto, no funcionará.\n",
    "    ✔️ Es una buena práctica añadir tus propias variables de entorno al final del fichero activate.\n",
    "    ✔️ Tu entorno virtual puede estar ubicado en cualquier parte del sistema de ficheros. Yo suelo tenerlo dentro de la carpeta del proyecto, junto con el código.\n",
    "    ✔️ En el ejemplo, el entorno virtual lo he llamado env pero puedes darle el nombre que tú quieras. Por convención se suelen usar env o venv.\n",
    "\n",
    "Ejemplo de configuración de un proyecto con virtualenv y requirements.txt:\n",
    "```\n",
    "/mi_proyecto\n",
    "|_/env\n",
    "|_program.py\n",
    "|_requirements.txt\n",
    "|_...py\n",
    "```"
   ]
  },
  {
   "cell_type": "markdown",
   "metadata": {},
   "source": [
    "Guía rápida (cheat sheet) de virtualenv y pip\n",
    "\n",
    "🎯 Instalar virtualenv:\n",
    "\n",
    "$> pip install virtualenv\n",
    "\n",
    "🎯 Crear entorno virtual:\n",
    "\n",
    "$> virtualenv env\n",
    "\n",
    "🎯 Crear entorno virtual especificando el intérprete:\n",
    "\n",
    "$> virtualenv -p ruta/interprete/python env\n",
    "\n",
    "🎯 Crear entorno virtual heredando las librerías del sistema (no recomendado):\n",
    "\n",
    "$> virtualenv --system-site-packages env\n",
    "\n",
    "🎯 Activar el entorno virtual en Linux/Mac:\n",
    "\n",
    "$> source env/bin/activate\n",
    "\n",
    "🎯 Activar el entorno virtual en Windows:\n",
    "\n",
    "$> env\\Scripts\\activate.bat\n",
    "\n",
    "🎯 Salir del entorno virtual:\n",
    "\n",
    "$> deactivate\n",
    "\n",
    "🎯 Instalar un paquete/librería (por ejemplo, flask):\n",
    "\n",
    "$> pip install flask\n",
    "\n",
    "🎯 Instalar una versión concreta de un paquete/librería:\n",
    "\n",
    "$> pip install flask==1.0.1\n",
    "\n",
    "🎯 Actualizar la versión de un paquete/librería:\n",
    "\n",
    "$> pip install flask -U\n",
    "\n",
    "🎯 Desinstalar una librería:\n",
    "\n",
    "$> pip uninstall flask\n",
    "\n",
    "🎯 Listar todas las librerías:\n",
    "\n",
    "$> pip list\n",
    "\n",
    "🎯 Listar todos los paquetes/librerías en formato requirements.txt:\n",
    "\n",
    "$\u0010> pip freeze\n",
    "\n",
    "🎯 Crear/Actualizar el fichero requirements.txt:\n",
    "\n",
    "$> pip freeze > requirements.txt\n",
    "\n",
    "🎯 Mostrar la información de un paquete/librería:\n",
    "\n",
    "$> pip show flask"
   ]
  },
  {
   "cell_type": "markdown",
   "metadata": {},
   "source": [
    "<p style=\"text-align: center\"><a rel=\"license\" href=\"http://creativecommons.org/licenses/by/4.0/\"><img alt=\"Licencia Creative Commons\" style=\"border-width:0\" src=\"https://i.creativecommons.org/l/by/4.0/80x15.png\" /></a><br />Esta obra está bajo una <a rel=\"license\" href=\"http://creativecommons.org/licenses/by/4.0/\">Licencia Creative Commons Atribución 4.0 Internacional</a>.</p>\n",
    "<p style=\"text-align: center\">&copy; José Luis Chiquete Valdivieso. 2018.</p>"
   ]
  }
 ],
 "metadata": {
  "kernelspec": {
   "display_name": "Python 3",
   "language": "python",
   "name": "python3"
  },
  "language_info": {
   "codemirror_mode": {
    "name": "ipython",
    "version": 3
   },
   "file_extension": ".py",
   "mimetype": "text/x-python",
   "name": "python",
   "nbconvert_exporter": "python",
   "pygments_lexer": "ipython3",
   "version": "3.8.2"
  }
 },
 "nbformat": 4,
 "nbformat_minor": 1
}
