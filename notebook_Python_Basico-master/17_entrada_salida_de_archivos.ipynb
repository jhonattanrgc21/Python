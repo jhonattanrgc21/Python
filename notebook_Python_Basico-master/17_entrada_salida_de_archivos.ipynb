{
 "cells": [
  {
   "cell_type": "markdown",
   "metadata": {},
   "source": [
    "![imagenes](imagenes/logocc.png)"
   ]
  },
  {
   "cell_type": "markdown",
   "metadata": {
    "collapsed": true
   },
   "source": [
    "# Lectura y escritura de archivos\n",
    "\n",
    "## Apertura de un archivo con la función _open()._\n",
    "\n",
    "La función _open()_ tiene por objeto interactuar con el sistema de archivos local para crear, sobreescribir, leer o desplazarse dentro de un archivo ya sea de texto o binario. \n",
    "\n",
    "```\n",
    "<nombre> = open(<ruta del archivo>, <modo>)\n",
    "```\n",
    "\n",
    "### Modos de abrir un archivo.\n",
    "\n",
    "#### Por el tipo de archivo.\n",
    "* _'t'_ se trata de un archivo de texto.\n",
    "* _'b'_ permite escritura en modo binario\n",
    "* _'U'_ define saltos de línea universales para el modo de lectura.\n",
    "\n",
    "Los archivos de texto y los archivos binarios representan tipos distintos en Python.\n",
    "\n",
    "#### Por el tipo de acceso.\n",
    "\n",
    "* _'r'_ es el modo de lectura.\n",
    "* _'w'_ es un modo de escritura. En caso de existir un archivo, éste es sobreescrito.\n",
    "* _'a'_ es un modo de escritura. En caso de existir un archivo, comienza a escribir al final de éste.\n",
    "* _'x'_ es un modo de escritura para crear un nuevo archivo. En caso de que el archivo exista se emitirá un error de tipo _FileExistsError_. \n",
    "* _'+'_ es un modo de escritura/lectura.\n",
    "\n",
    "## Tamaño y posición.\n",
    "\n",
    "Los archivos pueden contener ya sea bytes o caracteres acomodados uno detrás de otro. A cada elemento le corresponde una posición numérica que inicia a partir de cero.\n",
    "\n",
    "\n",
    "## Métodos más utilizados para gestión de archivos comunes para archivos binarios y de texto.\n",
    "\n",
    "### _close()_.\n",
    "\n",
    "Es imperativo que una vez que se hayan realizado todas las operaciones de entrada y de salida de archivos, este sea cerrado de manera adecuada. En caso de no hacerlo, es altamente probable que el archivo se encuentre en un estado inestable y corra riesgo de que la información contenida se corrompa o destruya.\n",
    "\n",
    "### _writable()_.\n",
    "Devolverá _True_ si el archivo está en modo de escritura.\n",
    "\n",
    "### _readable()_.\n",
    "Devolverá _True_ si el archivo está en modo de lectura.\n",
    "\n",
    "### _seekable()_.\n",
    "Devolverá _True_ si es posible desplazarse dentro del archivo.\n",
    "\n",
    "### _read()_.\n",
    "Si el archivo se encuentra en modo de lectura, leerá y regresará el contenido del archivo desde la posición en la que se encuentre lasta el final del archivo. Si se ingresa un número como argumento, leerá el número de posiciones indicadas en el argumento.\n",
    "\n",
    "### _write()_.\n",
    "Si el archivo se encuentra en modo de escritura, añadirá al archivo el contenido ingresado como argumento a partir de la posición en donde se encuentre, sobreescribiendo el texto ta existente. Una vez terminada la operación, regresará la nueva posición del puntero.\n",
    "\n",
    "### _tell()_.\n",
    "Regresará la posición en la que se encuentra el puntero dentro del archivo.\n",
    "\n",
    "### _seek()_.\n",
    "Moverá el puntero a la posición indicada.\n",
    "\n",
    " ** Ejemplo: **"
   ]
  },
  {
   "cell_type": "code",
   "execution_count": 1,
   "metadata": {},
   "outputs": [],
   "source": [
    "archivo = open(\"prueba.bin\", \"bw\")"
   ]
  },
  {
   "cell_type": "code",
   "execution_count": 2,
   "metadata": {},
   "outputs": [
    {
     "data": {
      "text/plain": [
       "12"
      ]
     },
     "execution_count": 2,
     "metadata": {},
     "output_type": "execute_result"
    }
   ],
   "source": [
    "archivo.write(b'Hola, mundo.')"
   ]
  },
  {
   "cell_type": "code",
   "execution_count": 3,
   "metadata": {},
   "outputs": [
    {
     "data": {
      "text/plain": [
       "True"
      ]
     },
     "execution_count": 3,
     "metadata": {},
     "output_type": "execute_result"
    }
   ],
   "source": [
    "archivo.seekable()"
   ]
  },
  {
   "cell_type": "code",
   "execution_count": 4,
   "metadata": {},
   "outputs": [
    {
     "data": {
      "text/plain": [
       "12"
      ]
     },
     "execution_count": 4,
     "metadata": {},
     "output_type": "execute_result"
    }
   ],
   "source": [
    "archivo.tell()"
   ]
  },
  {
   "cell_type": "code",
   "execution_count": 5,
   "metadata": {},
   "outputs": [],
   "source": [
    "archivo.close()"
   ]
  },
  {
   "cell_type": "code",
   "execution_count": 6,
   "metadata": {},
   "outputs": [],
   "source": [
    "archivo = open(\"prueba.bin\", \"br\")"
   ]
  },
  {
   "cell_type": "code",
   "execution_count": 7,
   "metadata": {},
   "outputs": [
    {
     "data": {
      "text/plain": [
       "_io.BufferedReader"
      ]
     },
     "execution_count": 7,
     "metadata": {},
     "output_type": "execute_result"
    }
   ],
   "source": [
    "type(archivo)"
   ]
  },
  {
   "cell_type": "code",
   "execution_count": 8,
   "metadata": {},
   "outputs": [
    {
     "data": {
      "text/plain": [
       "0"
      ]
     },
     "execution_count": 8,
     "metadata": {},
     "output_type": "execute_result"
    }
   ],
   "source": [
    "archivo.tell()"
   ]
  },
  {
   "cell_type": "code",
   "execution_count": 9,
   "metadata": {},
   "outputs": [
    {
     "data": {
      "text/plain": [
       "5"
      ]
     },
     "execution_count": 9,
     "metadata": {},
     "output_type": "execute_result"
    }
   ],
   "source": [
    "archivo.seek(5)"
   ]
  },
  {
   "cell_type": "code",
   "execution_count": 10,
   "metadata": {},
   "outputs": [
    {
     "data": {
      "text/plain": [
       "b' mundo.'"
      ]
     },
     "execution_count": 10,
     "metadata": {},
     "output_type": "execute_result"
    }
   ],
   "source": [
    "archivo.read()"
   ]
  },
  {
   "cell_type": "code",
   "execution_count": 11,
   "metadata": {},
   "outputs": [
    {
     "data": {
      "text/plain": [
       "0"
      ]
     },
     "execution_count": 11,
     "metadata": {},
     "output_type": "execute_result"
    }
   ],
   "source": [
    "archivo.seek(0)"
   ]
  },
  {
   "cell_type": "code",
   "execution_count": 12,
   "metadata": {},
   "outputs": [
    {
     "data": {
      "text/plain": [
       "b'Hola'"
      ]
     },
     "execution_count": 12,
     "metadata": {},
     "output_type": "execute_result"
    }
   ],
   "source": [
    "archivo.read(4)"
   ]
  },
  {
   "cell_type": "code",
   "execution_count": 13,
   "metadata": {},
   "outputs": [],
   "source": [
    "archivo.close()"
   ]
  },
  {
   "cell_type": "code",
   "execution_count": 14,
   "metadata": {},
   "outputs": [
    {
     "name": "stderr",
     "output_type": "stream",
     "text": [
      "UsageError: Line magic function `%cat` not found.\n"
     ]
    }
   ],
   "source": [
    "%cat prueba.bin"
   ]
  },
  {
   "cell_type": "markdown",
   "metadata": {},
   "source": [
    "## Métodos exclusivos para archivos de texto.\n",
    "\n",
    "### _readline()_.\n",
    "Leerá el texto desde la posición en que se localice hasta encontrar el caracter de escape retorno de línea (_'\\\\n')_. Cuando el punterose encuentre al final del archivo (EOF), regresará un objeto de cadena de caracteres vacío (_''_).\n",
    "\n",
    "### _readlines()_.\n",
    "Leerá el texto desde la posición en que se localice y creará un objeto de tipo _tuple_ que contenga cada línea dentro del archivo.\n",
    "\n",
    "### _writelines()_.\n",
    "Escribirá el texto contenido dentro de un elemento de tipo _list_ o _tuple_.\n",
    "\n",
    "**Ejemplos.**\n",
    "\n",
    "* Se creará un archivo de texto nuevo con el nombre *prueba.txt*.\n",
    "* Al objeto se le asignará el nombre *archivo*.\n",
    "* Se escribirán 3 líneas.\n",
    "* Se desplegará la posición del puntero del archivo.\n",
    "* Se desplegará el tipo de dato que es la variable *archivo*.\n",
    "* Se cerrará el archivo."
   ]
  },
  {
   "cell_type": "code",
   "execution_count": 15,
   "metadata": {},
   "outputs": [
    {
     "name": "stdout",
     "output_type": "stream",
     "text": [
      "83\n",
      "<class '_io.TextIOWrapper'>\n"
     ]
    }
   ],
   "source": [
    "archivo = open(\"prueba.txt\", \"w\")\n",
    "archivo.write(\"Hola.\\nBienvenido al curso de Python.\\nEsperamos que sea una agradable experiencia.\")\n",
    "print(archivo.tell())\n",
    "print(type(archivo))\n",
    "archivo.close()"
   ]
  },
  {
   "cell_type": "code",
   "execution_count": 16,
   "metadata": {},
   "outputs": [
    {
     "name": "stderr",
     "output_type": "stream",
     "text": [
      "UsageError: Line magic function `%cat` not found.\n"
     ]
    }
   ],
   "source": [
    "%cat prueba.txt"
   ]
  },
  {
   "cell_type": "markdown",
   "metadata": {},
   "source": [
    "* Se abrirá el archivo *prueba.txt* como sólo lectura.\n",
    "* Al objeto se le asignará el nombre *archivo*.\n",
    "* Se leerá la primera línea de texto.\n",
    "* Se desplegará dicha línea.\n",
    "* Se cerrará el archivo."
   ]
  },
  {
   "cell_type": "code",
   "execution_count": 17,
   "metadata": {},
   "outputs": [
    {
     "name": "stdout",
     "output_type": "stream",
     "text": [
      "Hola.\n",
      "\n"
     ]
    }
   ],
   "source": [
    "archivo = open(\"prueba.txt\", \"r\")\n",
    "print(archivo.readline())\n",
    "archivo.close()"
   ]
  },
  {
   "cell_type": "markdown",
   "metadata": {},
   "source": [
    "* Se abrirá el archivo *prueba.txt* como sólo lectura.\n",
    "* Al objeto se le asignará el nombre *archivo*.\n",
    "* Se localizará el puntero en la posición 12 del archivo.\n",
    "* Se leerán todas línea de texto a partir de dicha posición.\n",
    "* Se desplegará cada línea.\n",
    "* Se cerrará el archivo."
   ]
  },
  {
   "cell_type": "code",
   "execution_count": 18,
   "metadata": {
    "scrolled": true
   },
   "outputs": [
    {
     "name": "stdout",
     "output_type": "stream",
     "text": [
      "enido al curso de Python.\n",
      "\n",
      "Esperamos que sea una agradable experiencia.\n"
     ]
    }
   ],
   "source": [
    "archivo = open(\"prueba.txt\", \"r\")\n",
    "archivo.seek(12)\n",
    "for linea in archivo.readlines():\n",
    "    print(linea)\n",
    "archivo.close()"
   ]
  },
  {
   "cell_type": "markdown",
   "metadata": {},
   "source": [
    "* Se abrirá el archivo prueba.txt como escritura no destructiva, posicionando e puntero al final del archivo.\n",
    "* Al objeto se le asignará el nombre archivo.\n",
    "* Se desplegará la posición del puntero.\n",
    "* Se añadirán 2 líneas de texto.\n",
    "* Se desplegará la nueva posición del puntero.\n",
    "* Se cerrará el archivo."
   ]
  },
  {
   "cell_type": "code",
   "execution_count": 19,
   "metadata": {},
   "outputs": [
    {
     "name": "stdout",
     "output_type": "stream",
     "text": [
      "83\n",
      "112\n"
     ]
    }
   ],
   "source": [
    "archivo = open(\"prueba.txt\", \"a\")\n",
    "print(archivo.tell())\n",
    "archivo.write(\"\\nNueva linea.\\nAqui \\ty alla.\")\n",
    "print(archivo.tell())\n",
    "archivo.close()"
   ]
  },
  {
   "cell_type": "code",
   "execution_count": null,
   "metadata": {},
   "outputs": [],
   "source": [
    "%cat prueba.txt"
   ]
  },
  {
   "cell_type": "markdown",
   "metadata": {},
   "source": [
    "* Se abrirá el archivo *prueba.txt* como lectura/escritura.\n",
    "* Al objeto se le asignará el nombre *archivo*.\n",
    "* Se sobreescribirá el texto inicial.\n",
    "* Se posicionará al puntero al inicio del archivo.\n",
    "* Se desplegará todo texto a partir de dicha posición.\n",
    "* Se cerrará el archivo."
   ]
  },
  {
   "cell_type": "code",
   "execution_count": 20,
   "metadata": {},
   "outputs": [
    {
     "name": "stdout",
     "output_type": "stream",
     "text": [
      "HOLA.\n",
      "Bienvenido al curso de Python.\n",
      "Esperamos que sea una agradable experiencia.\n",
      "Nueva linea.\n",
      "Aqui \ty alla.\n"
     ]
    }
   ],
   "source": [
    "archivo = open(\"prueba.txt\", \"r+\")\n",
    "archivo.write(\"HOLA\")\n",
    "archivo.seek(0)\n",
    "print(archivo.read())\n",
    "archivo.close()"
   ]
  },
  {
   "cell_type": "markdown",
   "metadata": {},
   "source": [
    "## Iteraciones con archivos de texto.\n",
    "\n",
    "Cuando se utiliza una objeto de tipo archivo de texto en modo de lectura dentro de una estructura _for_ ... _in_, éste se regresará una sucesión de _readline()_ hasta llegar al final del archivo.\n",
    "\n",
    "**Ejemplo:**"
   ]
  },
  {
   "cell_type": "code",
   "execution_count": 21,
   "metadata": {},
   "outputs": [
    {
     "name": "stdout",
     "output_type": "stream",
     "text": [
      "HOLA.\n",
      "\n",
      "Bienvenido al curso de Python.\n",
      "\n",
      "Esperamos que sea una agradable experiencia.\n",
      "\n",
      "Nueva linea.\n",
      "\n",
      "Aqui \ty alla.\n"
     ]
    }
   ],
   "source": [
    "archivo = open(\"prueba.txt\", \"r\")\n",
    "for linea in archivo:\n",
    "    print(linea)\n",
    "archivo.close()"
   ]
  },
  {
   "cell_type": "markdown",
   "metadata": {},
   "source": [
    "## Operaciones seguras con la estructura _with open()_... _as_... :\n",
    "\n",
    "Esta estructura permite ejecutar un bloque de código que una vez ejecutado, cierre automáticamente al archivo.\n",
    "\n",
    "**Sintaxis:**\n",
    "```\n",
    "with open (,nombre del archivo>, <modo>) as <nombre>:\n",
    "    ...\n",
    "    ...\n",
    "```\n",
    "**Ejemplo:**"
   ]
  },
  {
   "cell_type": "code",
   "execution_count": null,
   "metadata": {},
   "outputs": [],
   "source": [
    "with open(\"nuevo_texto.txt\", \"w\") as archivo:\n",
    "    archivo.writelines([\"Enhorabuena.\\n\",\"Ha creado un archivo de forma segura.\"])"
   ]
  },
  {
   "cell_type": "code",
   "execution_count": 22,
   "metadata": {},
   "outputs": [
    {
     "name": "stderr",
     "output_type": "stream",
     "text": [
      "UsageError: Line magic function `%cat` not found.\n"
     ]
    }
   ],
   "source": [
    "%cat nuevo_texto.txt"
   ]
  },
  {
   "cell_type": "markdown",
   "metadata": {},
   "source": [
    "<p style=\"text-align: center\"><a rel=\"license\" href=\"http://creativecommons.org/licenses/by/4.0/\"><img alt=\"Licencia Creative Commons\" style=\"border-width:0\" src=\"https://i.creativecommons.org/l/by/4.0/80x15.png\" /></a><br />Esta obra está bajo una <a rel=\"license\" href=\"http://creativecommons.org/licenses/by/4.0/\">Licencia Creative Commons Atribución 4.0 Internacional</a>.</p>\n",
    "<p style=\"text-align: center\">&copy; José Luis Chiquete Valdivieso. 2018.</p>"
   ]
  }
 ],
 "metadata": {
  "kernelspec": {
   "display_name": "Python 3",
   "language": "python",
   "name": "python3"
  },
  "language_info": {
   "codemirror_mode": {
    "name": "ipython",
    "version": 3
   },
   "file_extension": ".py",
   "mimetype": "text/x-python",
   "name": "python",
   "nbconvert_exporter": "python",
   "pygments_lexer": "ipython3",
   "version": "3.8.2"
  }
 },
 "nbformat": 4,
 "nbformat_minor": 1
}
