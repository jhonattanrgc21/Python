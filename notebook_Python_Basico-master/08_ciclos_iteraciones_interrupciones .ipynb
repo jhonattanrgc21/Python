{
 "cells": [
  {
   "cell_type": "markdown",
   "metadata": {},
   "source": [
    "![imagenes](imagenes/logocc.png)"
   ]
  },
  {
   "cell_type": "markdown",
   "metadata": {},
   "source": [
    "# Ciclos, iteraciones e interrupciones de ejecución.\n",
    "\n",
    "## Ciclos con _while_.\n",
    "\n",
    "Python cuenta con la palabra reservada *while* para ejecutar un bloque de código recursivamente mientras se cumpla una condición determinada. Cuando la expresión lógica evaluada por *while* sea *False* , el flujo de ejecución continuará sin ejecutar el bloque dentro de _while_.\n",
    "\n",
    "```\n",
    "<flujo principal>\n",
    "...\n",
    "...\n",
    "while <expresión lógica>:\n",
    "     <bloque inscrito a while>\n",
    "<flujo principal>\n",
    "```\n",
    "A continuación se muestra un diagrama de flujo que ejemplifica al uso de *while*:\n",
    "![while](imagenes/while.png)\n",
    "\n",
    "**Ejemplo:**"
   ]
  },
  {
   "cell_type": "code",
   "execution_count": 1,
   "metadata": {},
   "outputs": [
    {
     "name": "stdout",
     "output_type": "stream",
     "text": [
      "Clave: hola\n",
      "Intento 1. \n",
      " \n",
      "Clave: despedida\n",
      "Intento 2. \n",
      " \n",
      "Utilizaste 2 intentos.\n"
     ]
    }
   ],
   "source": [
    "''' Este programa se repetirá 3 veces o hasta que se ingrese\n",
    "    la palabra \"despedida\" y desplegará el número de intentos\n",
    "    hasta que cualquiera de los eventos ocurra.'''\n",
    "\n",
    "entrada = \"\"\n",
    "suma = 0\n",
    "while suma < 3 and entrada != \"despedida\":\n",
    "    entrada = input(\"Clave: \")\n",
    "    suma += 1\n",
    "    print(\"Intento %d. \\n \" % suma)\n",
    "print(\"Utilizaste %d intentos.\" % suma)\n"
   ]
  },
  {
   "cell_type": "markdown",
   "metadata": {},
   "source": [
    "Si la condición es siempre cierta, el ciclo while se ejecutará para siempre (bucle infinito) si no se termina con una instrucción break o return o una excepción.\n",
    "\n",
    "```\n",
    "while True:\n",
    "    print \"Infinite loop\"\n",
    "```"
   ]
  },
  {
   "cell_type": "markdown",
   "metadata": {},
   "source": [
    "\n",
    "## Interrupciones de ejecución de un bloque.\n",
    "\n",
    "En ciertas circunstancias es necesario interrumpir el flujo lógico de un programa. Python cuenta con los siguientes recursos para hacerlo.\n",
    "\n",
    "* La palabra reservada _continue_.\n",
    "* La palabra reservada _break_.\n",
    "* La función _exit()_.\n",
    "\n",
    "### La palabra reservada _continue_.\n",
    "\n",
    "La palabra reservada *continue* termina de forma prematura la ejecución de un bloque dentro de un ciclo.\n",
    "\n",
    "A continuación se muestra un diagrama de flujo que ejemplifica al uso de *continue* dentro de un ciclo con *while*:\n",
    "![while-continue](imagenes/while-continue.png)\n",
    "\n",
    "**Ejemplo:**"
   ]
  },
  {
   "cell_type": "code",
   "execution_count": null,
   "metadata": {},
   "outputs": [],
   "source": [
    "''' Este programa se repetirá 3 veces y desplegará el número de intentos en los\n",
    "    que se ingresó la palabra \"despedida\".'''\n",
    "\n",
    "entrada = \"\"\n",
    "suma = 0\n",
    "fallido = 0\n",
    "while suma < 3:\n",
    "    suma += 1\n",
    "    print(\"Intento %d.\" % suma)\n",
    "    entrada = input(\"Clave: \")\n",
    "    print()\n",
    "    # Al ingresar \"despedida\", se evita que la variable fallido se incremente.\n",
    "    if entrada == \"despedida\":\n",
    "        continue\n",
    "        \n",
    "    fallido += 1\n",
    "print(\"Tuviste %d intentos fallidos.\" % fallido)"
   ]
  },
  {
   "cell_type": "markdown",
   "metadata": {},
   "source": [
    "###  La palabra reservada _break_.\n",
    "\n",
    "La palabra reservada *break* termina prematuramente la ejecución del bloque de código en el que se encuentra y restablece el flujo de ejecución al bloque de código que lo precede.\n",
    "\n",
    "A continuación se muestra un diagrama de flujo que ejemplifica al uso de *break* dentro de un ciclo con *while*:\n",
    "![while-break](imagenes/while-break.png)\n",
    "\n",
    "**NOTA:** *break* no sólo se puede aplicar a ciclos o iteraciones, sino también a funciones, métodos y a cualquier elemento que contenga bloques de código ejecutable. \n",
    "\n",
    "**Ejemplo:**"
   ]
  },
  {
   "cell_type": "code",
   "execution_count": null,
   "metadata": {},
   "outputs": [],
   "source": [
    "''' Este programa se repetirá 3 veces o hasta que se ingrese\n",
    "    la palabra \"despedida\" y desplegará sólo el número de intentos\n",
    "    fallidos hasta que cualquiera de los eventos ocurra.'''\n",
    "\n",
    "suma = 0\n",
    "while suma < 3:\n",
    "    entrada = input(\"Clave:\")\n",
    "    #Si se ingresa la palabra \"despedida, se termina el ciclo.\n",
    "    if entrada == \"despedida\":\n",
    "        break\n",
    "    suma = suma + 1\n",
    "    print(\"Intento %d. \\n \" % suma)\n",
    "print(\"Tuviste %d intentos fallidos.\" % suma)\n"
   ]
  },
  {
   "cell_type": "markdown",
   "metadata": {},
   "source": [
    "### La función *exit()*.\n",
    "\n",
    "La función *exit()* termina la ejecución de un programa y cierra el intérprete de Python.\n",
    "\n",
    "A continuación se muestra un diagrama de flujo que ejemplifica al uso de *break* dentro de un ciclo con *while*:\n",
    "![while-exit()](imagenes/while-exit.png)\n",
    "\n",
    "**Advertencia:** En el caso de las notebooks de Jupyter, cuando el servidor detecta que el kernel se detiene, levanta uno nuevo."
   ]
  },
  {
   "cell_type": "code",
   "execution_count": null,
   "metadata": {},
   "outputs": [],
   "source": [
    "exit()"
   ]
  },
  {
   "cell_type": "markdown",
   "metadata": {},
   "source": [
    "#### El script *[while_exit.py](codigo/while_exit.py)*.\n",
    "\n",
    "Este script detendrá la ejecución de un programa al ingresar la cadena de caracteres \"*termina*\". \n",
    "\n",
    "**Advertencia:** Debido a las características de Jupyter, este script debe de ser ejecutado mediante el intérprete convencional de Python.\n",
    "\n",
    "**El código:**"
   ]
  },
  {
   "cell_type": "code",
   "execution_count": null,
   "metadata": {},
   "outputs": [],
   "source": [
    "#! /usr/bin/python3\n",
    "\n",
    "''' Este programa se repetirá 3 veces o hasta que se ingrese\n",
    "    la palabra \"despedida\" y desplegará sólo el número de intentos\n",
    "    fallidos hasta que cualquiera de los eventos ocurra. Al\n",
    "    ingresar la palabra \"termina\" el programa se detendrá.'''\n",
    "\n",
    "entrada = \"\"\n",
    "suma = 0\n",
    "while suma < 3:\n",
    "    entrada = input(\"Clave:\")\n",
    "    if entrada == \"despedida\":\n",
    "        break\n",
    "    elif entrada == \"termina\":\n",
    "        exit()\n",
    "    suma = suma + 1\n",
    "    print(\"Intento %d. \\n \" % suma)\n",
    "print(\"Tuviste %d intentos fallidos.\" % suma)"
   ]
  },
  {
   "cell_type": "markdown",
   "metadata": {},
   "source": [
    "\n",
    "## Iteraciones con _for_... _in_.\n",
    "\n",
    "\n",
    "### Objetos iterables.\n",
    "\n",
    "Una de las grandes fortalezas de Python es su capacidad de realizar iteraciones de forma dinámica a partir de diversos tipos de objetos con la capacidad de ser iterables.\n",
    "\n",
    "Algunos de estos objetos son los de tipo:\n",
    "\n",
    "* _str_.\n",
    "* _list_.\n",
    "* _tuple_.\n",
    "* _dict_.\n",
    "* _set_.\n",
    "* _frozenset_.\n",
    "* _bytes_.\n",
    "\n",
    "Las iteraciones para cada uno de los tipos enunciados se estudiarán y analizarán caso por caso en secciones próximas.\n",
    "\n",
    "### La estructura *for* ... *in*.\n",
    "\n",
    "Para iterar un objeto iterable se utiliza la siguiente sintaxis:\n",
    "\n",
    "```\n",
    "for <contador> in <objeto iterable>:\n",
    "```\n",
    "\n",
    "**Ejemplo:**"
   ]
  },
  {
   "cell_type": "code",
   "execution_count": null,
   "metadata": {},
   "outputs": [],
   "source": [
    "for i in [0, 1, 2, 3, 4]:\n",
    "    print(i) "
   ]
  },
  {
   "cell_type": "markdown",
   "metadata": {},
   "source": [
    "### Iteraciones incrementales/decrementales.\n",
    "\n",
    "La forma más común de realizar iteraciones en otros lenguajes de programación es por medio algo similar al uso de la función *range().*\n",
    "\n",
    "### La función *range()*\n",
    "\n",
    "Para definir rangos numéricos se usa la función *range()*.\n",
    "\n",
    "* *range(*n, m, s*)* cumple:  rango >= n and rango < m en incrementos de s.\n",
    "* *range(*n, m*)* cumple:  rango >= n and rango < m en incrementos de 1.\n",
    "* *range(*m*)* cumple:  rango >= 0 and rango < m en incrementos de 1.\n",
    "\n",
    "**Ejemplos:**"
   ]
  },
  {
   "cell_type": "code",
   "execution_count": 2,
   "metadata": {},
   "outputs": [
    {
     "name": "stdout",
     "output_type": "stream",
     "text": [
      "0\n",
      "1\n",
      "2\n",
      "3\n",
      "4\n",
      "5\n",
      "6\n",
      "7\n",
      "\n"
     ]
    }
   ],
   "source": [
    "\"\"\" Cuenta del 0 hasta menos de 8 en incrementos de a 1.\"\"\"\n",
    "for contador in range(8):\n",
    "    print(contador)\n",
    "print()\n"
   ]
  },
  {
   "cell_type": "code",
   "execution_count": 3,
   "metadata": {},
   "outputs": [
    {
     "name": "stdout",
     "output_type": "stream",
     "text": [
      "5\n",
      "6\n",
      "7\n",
      "8\n",
      "\n"
     ]
    }
   ],
   "source": [
    "\"\"\" Cuenta del 5 hasta menos de 9 en incrementos de a 1. \"\"\"\n",
    "for contador in range(5, 9):\n",
    "    print(contador)\n",
    "print()"
   ]
  },
  {
   "cell_type": "code",
   "execution_count": 4,
   "metadata": {},
   "outputs": [
    {
     "name": "stdout",
     "output_type": "stream",
     "text": [
      "3\n",
      "5\n",
      "7\n",
      "9\n",
      "\n"
     ]
    }
   ],
   "source": [
    "\"\"\" Cuenta de 3 hasta menos de 11 en incrementos de a 2. \"\"\"\n",
    "for contador in range(3, 11, 2):\n",
    "    print(contador)\n",
    "print()"
   ]
  },
  {
   "cell_type": "code",
   "execution_count": 5,
   "metadata": {},
   "outputs": [
    {
     "name": "stdout",
     "output_type": "stream",
     "text": [
      "26\n",
      "22\n",
      "18\n",
      "14\n"
     ]
    }
   ],
   "source": [
    "\"\"\" Cuenta del 26 hasta más de 10 en decrementos de a 4. \"\"\"\n",
    "for contador in range(26, 10, -4):\n",
    "    print(contador)"
   ]
  },
  {
   "cell_type": "markdown",
   "metadata": {},
   "source": [
    "### for - enumerate\n",
    "\n",
    "Si desea recorrer los elementos de una lista y también tener un índice para los elementos, puede usar la función de enumerate de Python, *enumerate* generará tuplas, que se desempaquetan en índice (un número entero) y elemento (el valor real de la lista).\n",
    "\n",
    "**Ejemplo:**"
   ]
  },
  {
   "cell_type": "code",
   "execution_count": 6,
   "metadata": {},
   "outputs": [
    {
     "name": "stdout",
     "output_type": "stream",
     "text": [
      "0 :: one\n",
      "1 :: two\n",
      "2 :: three\n",
      "3 :: four\n"
     ]
    }
   ],
   "source": [
    "for index, item in enumerate(['one', 'two', 'three', 'four']):\n",
    "    print(index, '::', item)"
   ]
  },
  {
   "cell_type": "markdown",
   "metadata": {},
   "source": [
    "### Iterando sobre las claves de diccionarios.\n",
    "\n",
    "Considere el siguiente diccionario: \n",
    "```\n",
    "d = {\"a\": 1, \"b\": 2, \"c\": 3}\n",
    "```\n",
    "Para iterar a través de sus claves, puede utilizar:\n",
    "```\n",
    "for key in d:\n",
    "    print(key)\n",
    "```\n",
    "Esto es equivalente a:\n",
    "```\n",
    "for key in d.keys():\n",
    "    print(key)\n",
    "```\n",
    "O en Python 2:\n",
    "```\n",
    "for key in d.iterkeys():\n",
    "    print(key)\n",
    "```\n",
    "\n",
    "### Iterando sobre los valores de diccionarios.\n",
    "\n",
    "Para iterar sobre sus valores, utilice:\n",
    "```\n",
    "for value in d.values():\n",
    "    print(value)\n",
    "```\n",
    "\n",
    "### Iterando sobre las claves y los valores de diccionarios.\n",
    "\n",
    "Para iterar sobre sus claves y valores, utilice:\n",
    "```\n",
    "for key, value in d.items():\n",
    "    print(key, \"::\", value)\n",
    "```\n",
    "**Nota:** Tenga en cuenta que en Python 3, el orden de los elementos impresos de la manera anterior no sigue ningún orden.\n",
    "\n",
    "### Iterando y desempaquetando.\n",
    "\n",
    "Si quieres recorrer una lista de tuplas por ejemplo:\n",
    "\n",
    "collection = [('a', 'b', 'c'), ('x', 'y', 'z'), ('1', '2', '3')] \u000b",
    "\n",
    "En lugar de hacer algo como esto:\n",
    "```\n",
    "for item in collection:\n",
    "    i1 = item[0]\n",
    "    i2 = item[1]\n",
    "    i3 = item[2]\t\n",
    "    # logic\n",
    "```\n",
    "o algo como esto:\n",
    "```\n",
    "for item in collection: \n",
    "\ti1, i2, i3 = item\t\n",
    "    # logic\n",
    "```\n",
    "Simplemente puede hacer esto:\n",
    "\n",
    "```\n",
    "for i1, i2, i3 in collection:\n",
    "    # logic\n",
    "```\n",
    "\n",
    "Esto también funcionará para la mayoría de los tipos de iterables, no solo para tuplas."
   ]
  },
  {
   "cell_type": "markdown",
   "metadata": {},
   "source": [
    "![imagenes](imagenes/contactame.png)\n",
    "\n",
    "<p style=\"text-align: center\"><a rel=\"license\" href=\"http://creativecommons.org/licenses/by/4.0/\"><img alt=\"Licencia Creative Commons\" style=\"border-width:0\" src=\"https://i.creativecommons.org/l/by/4.0/80x15.png\" /></a><br />Esta obra está bajo una <a rel=\"license\" href=\"http://creativecommons.org/licenses/by/4.0/\">Licencia Creative Commons Atribución 4.0 Internacional</a>.</p>\n",
    "<p style=\"text-align: center\">&copy; José Luis Chiquete Valdivieso. 2018.</p>"
   ]
  }
 ],
 "metadata": {
  "kernelspec": {
   "display_name": "Python 3",
   "language": "python",
   "name": "python3"
  },
  "language_info": {
   "codemirror_mode": {
    "name": "ipython",
    "version": 3
   },
   "file_extension": ".py",
   "mimetype": "text/x-python",
   "name": "python",
   "nbconvert_exporter": "python",
   "pygments_lexer": "ipython3",
   "version": "3.8.1"
  }
 },
 "nbformat": 4,
 "nbformat_minor": 1
}
