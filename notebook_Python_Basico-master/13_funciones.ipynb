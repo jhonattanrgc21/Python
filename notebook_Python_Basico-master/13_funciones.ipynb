{
 "cells": [
  {
   "cell_type": "markdown",
   "metadata": {},
   "source": [
    "![imagenes](imagenes/logocc.png)"
   ]
  },
  {
   "cell_type": "markdown",
   "metadata": {},
   "source": [
    "# Funciones\n",
    "\n",
    "Las funciones son piezas de código delimitadas y a las que se les puede asignar un nombre con el que pueden ser invocadas. Las funciones son uno de varios tipos invocables (callable) de Python.\n",
    "\n",
    "## Definición de una función.\n",
    "\n",
    "De forma general, las funciones en Python se definen de la siguiente manera:\n",
    "\n",
    "```\n",
    "def <nombre>(<parámetros>):\n",
    "    <código>\n",
    "```\n",
    "\n",
    "Las funciones se invocan de la siguiente manera:\n",
    "\n",
    "```\n",
    "<nombre>(<argumentos>)\n",
    "```\n",
    "A lo largo del curso se han invocado múltiples funciones.\n",
    "\n",
    "### Definición de una función mínima.\n",
    "\n",
    "```python\n",
    ">>>> def funcion():\n",
    "...      pass\n",
    "```\n",
    "\n",
    "##### La declaración _pass_.\n",
    "\n",
    "La declaración _pass_ no realiza ninguna acción, pero evita que se genere un error de indentación al crear una función vacía.\n",
    "\n",
    "Cuando la función que se acaba de definir se invoca, no ocurre nada.\n",
    "\n",
    "**Ejemplo:**"
   ]
  },
  {
   "cell_type": "code",
   "execution_count": null,
   "metadata": {},
   "outputs": [],
   "source": [
    "def funcion():\n",
    "    pass"
   ]
  },
  {
   "cell_type": "code",
   "execution_count": null,
   "metadata": {},
   "outputs": [],
   "source": [
    "funcion()"
   ]
  },
  {
   "cell_type": "code",
   "execution_count": null,
   "metadata": {},
   "outputs": [],
   "source": [
    "type(funcion)"
   ]
  },
  {
   "cell_type": "markdown",
   "metadata": {},
   "source": [
    "### Una función con código.\n",
    "\n",
    "**Ejemplo:** \n",
    "La siguiente función desplegará un mensaje al ser invocada."
   ]
  },
  {
   "cell_type": "code",
   "execution_count": null,
   "metadata": {},
   "outputs": [],
   "source": [
    "def saludo():\n",
    "    print('Hola')"
   ]
  },
  {
   "cell_type": "code",
   "execution_count": null,
   "metadata": {},
   "outputs": [],
   "source": [
    "saludo()"
   ]
  },
  {
   "cell_type": "markdown",
   "metadata": {},
   "source": [
    "## Las funciones son objetos.\n",
    "\n",
    "En Python, las funciones son objetos.\n",
    "\n",
    "**Ejemplo:**"
   ]
  },
  {
   "cell_type": "code",
   "execution_count": null,
   "metadata": {},
   "outputs": [],
   "source": [
    "def saludo():\n",
    "    print( 'Hola')"
   ]
  },
  {
   "cell_type": "code",
   "execution_count": null,
   "metadata": {},
   "outputs": [],
   "source": [
    "dir(saludo)"
   ]
  },
  {
   "cell_type": "markdown",
   "metadata": {},
   "source": [
    "## Introspección.\n",
    "\n",
    "Python puede generar documentación a partir del código y los elementos de un objeto y particularmente de los comentarios de estilo docstring.\n",
    "El primer comentario usando docstring justo debajo de _def_ se utiliza como parte de la documentación de la función.\n",
    "\n",
    "**Ejemplo:**"
   ]
  },
  {
   "cell_type": "code",
   "execution_count": 1,
   "metadata": {},
   "outputs": [],
   "source": [
    "def saludo():\n",
    "    '''Imprime un mensaje de texto.'''\n",
    "    print( 'Hola')\n",
    "    "
   ]
  },
  {
   "cell_type": "code",
   "execution_count": 2,
   "metadata": {},
   "outputs": [
    {
     "name": "stdout",
     "output_type": "stream",
     "text": [
      "Help on function saludo in module __main__:\n",
      "\n",
      "saludo()\n",
      "    Imprime un mensaje de texto.\n",
      "\n"
     ]
    }
   ],
   "source": [
    "help(saludo)"
   ]
  },
  {
   "cell_type": "markdown",
   "metadata": {},
   "source": [
    "## Ámbitos.\n",
    "\n",
    "El intérprete de Python cuenta con un espacio de nombres en el que se ligan los objetos mediante la asignación de un nombre. Del mismo modo, las funciones crean su propio espacio de nombres, el cual deja de existir tan pronto como la función invocada concluye su ejecución.\n",
    "\n",
    "A estos espacios de nombres diferenciados se les conoce como ámbitos y evita que objetos definidos con nombres idénticos dentro de una función sobrescriban el espacio de nombres del intérprete.\n",
    "\n",
    "**Ejemplo:**"
   ]
  },
  {
   "cell_type": "code",
   "execution_count": 3,
   "metadata": {},
   "outputs": [],
   "source": [
    "objeto = \"Hola\"\n",
    "def funcion():\n",
    "    objeto = 2\n",
    "    print(objeto)"
   ]
  },
  {
   "cell_type": "code",
   "execution_count": 4,
   "metadata": {},
   "outputs": [
    {
     "name": "stdout",
     "output_type": "stream",
     "text": [
      "2\n"
     ]
    }
   ],
   "source": [
    "funcion()"
   ]
  },
  {
   "cell_type": "code",
   "execution_count": 5,
   "metadata": {},
   "outputs": [
    {
     "data": {
      "text/plain": [
       "'Hola'"
      ]
     },
     "execution_count": 5,
     "metadata": {},
     "output_type": "execute_result"
    }
   ],
   "source": [
    "objeto"
   ]
  },
  {
   "cell_type": "markdown",
   "metadata": {},
   "source": [
    "### Ámbito global.\n",
    "\n",
    "El espacio de nombres del intérprete de Python corresponde al ámbito global.\n",
    "\n",
    "#### La función _globals()_.\n",
    "\n",
    "La función _globals()_ regresa el contenido del espacio de nombres del ámbito global como un objeto de tipo _dict_.\n",
    "\n",
    "Cuando se invoca la función _dir()_ sin argumentos desde el intérprete, ésta regresa un objeto de tipo _list_ con el listado de nombres del ámbito global.\n",
    "\n",
    "### Ámbitos locales.\n",
    "\n",
    "Cada función genera su propio espacio de nombres cada vez que es invocada. Cada uno de estos espacios de nombres es un ámbito local.\n",
    "\n",
    "#### La función _locals()_.\n",
    "\n",
    "La función _locals()_ regresa el contenido del espacio de nombres del ámbito local como un objeto de tipo _dict_. Cuando se invoca la función _dir()_ sin argumentos desde una función, ésta regresa un objeto de tipo _list_ con el listado de nombres del ámbito local.\n",
    "\n",
    "**Ejemplo:**\n",
    "\n",
    "Se definirá la función _ambitos()_, la cual desplegará, el contenido de su ámbito local mediante _locals()_ y _dir()_, además del espacio de nombres del ámbito global con _globals()_. Posteriormente se ejecutará la función _dir()_ desde el intérprete.\n",
    "\n"
   ]
  },
  {
   "cell_type": "code",
   "execution_count": 7,
   "metadata": {},
   "outputs": [],
   "source": [
    "def ambitos():\n",
    "    lista = [1, 2, 3]\n",
    "    nulo = None\n",
    "    print('Espacio de nombres en el ámbito local:')\n",
    "    print('%s\\n%s\\n' %(locals(), dir()))\n",
    "    print('Espacio de nombres en el ámbito global:')\n",
    "    print(globals())"
   ]
  },
  {
   "cell_type": "code",
   "execution_count": 8,
   "metadata": {},
   "outputs": [
    {
     "name": "stdout",
     "output_type": "stream",
     "text": [
      "Espacio de nombres en el ámbito local:\n",
      "{'lista': [1, 2, 3], 'nulo': None}\n",
      "['lista', 'nulo']\n",
      "\n",
      "Espacio de nombres en el ámbito global:\n",
      "{'__name__': '__main__', '__doc__': 'Automatically created module for IPython interactive environment', '__package__': None, '__loader__': None, '__spec__': None, '__builtin__': <module 'builtins' (built-in)>, '__builtins__': <module 'builtins' (built-in)>, '_ih': ['', \"def saludo():\\n    '''Imprime un mensaje de texto.'''\\n    print( 'Hola')\\n    \", 'help(saludo)', 'objeto = \"Hola\"\\ndef funcion():\\n    objeto = 2\\n    print(objeto)', 'funcion()', 'objeto', \"def ambitos():\\n    lista = [1, 2, 3]\\n    nulo = None\\n    print('Espacio de nombres en el ámbito local:')\\n    print('%s\\\\n%s\\\\n' %(locals(), dir()))\\n    print('Espacio de nombres en el ámbito global:')\\n    print(globals())\", \"def ambitos():\\n    lista = [1, 2, 3]\\n    nulo = None\\n    print('Espacio de nombres en el ámbito local:')\\n    print('%s\\\\n%s\\\\n' %(locals(), dir()))\\n    print('Espacio de nombres en el ámbito global:')\\n    print(globals())\", 'ambitos()'], '_oh': {5: 'Hola'}, '_dh': ['C:\\\\Users\\\\jhona\\\\Downloads\\\\notebook_Python_Basico-master'], 'In': ['', \"def saludo():\\n    '''Imprime un mensaje de texto.'''\\n    print( 'Hola')\\n    \", 'help(saludo)', 'objeto = \"Hola\"\\ndef funcion():\\n    objeto = 2\\n    print(objeto)', 'funcion()', 'objeto', \"def ambitos():\\n    lista = [1, 2, 3]\\n    nulo = None\\n    print('Espacio de nombres en el ámbito local:')\\n    print('%s\\\\n%s\\\\n' %(locals(), dir()))\\n    print('Espacio de nombres en el ámbito global:')\\n    print(globals())\", \"def ambitos():\\n    lista = [1, 2, 3]\\n    nulo = None\\n    print('Espacio de nombres en el ámbito local:')\\n    print('%s\\\\n%s\\\\n' %(locals(), dir()))\\n    print('Espacio de nombres en el ámbito global:')\\n    print(globals())\", 'ambitos()'], 'Out': {5: 'Hola'}, 'get_ipython': <bound method InteractiveShell.get_ipython of <ipykernel.zmqshell.ZMQInteractiveShell object at 0x0000016B5F102F70>>, 'exit': <IPython.core.autocall.ZMQExitAutocall object at 0x0000016B5F178DC0>, 'quit': <IPython.core.autocall.ZMQExitAutocall object at 0x0000016B5F178DC0>, '_': 'Hola', '__': '', '___': '', '_i': \"def ambitos():\\n    lista = [1, 2, 3]\\n    nulo = None\\n    print('Espacio de nombres en el ámbito local:')\\n    print('%s\\\\n%s\\\\n' %(locals(), dir()))\\n    print('Espacio de nombres en el ámbito global:')\\n    print(globals())\", '_ii': \"def ambitos():\\n    lista = [1, 2, 3]\\n    nulo = None\\n    print('Espacio de nombres en el ámbito local:')\\n    print('%s\\\\n%s\\\\n' %(locals(), dir()))\\n    print('Espacio de nombres en el ámbito global:')\\n    print(globals())\", '_iii': 'objeto', '_i1': \"def saludo():\\n    '''Imprime un mensaje de texto.'''\\n    print( 'Hola')\\n    \", 'saludo': <function saludo at 0x0000016B5F1C28B0>, '_i2': 'help(saludo)', '_i3': 'objeto = \"Hola\"\\ndef funcion():\\n    objeto = 2\\n    print(objeto)', 'objeto': 'Hola', 'funcion': <function funcion at 0x0000016B5F1C2CA0>, '_i4': 'funcion()', '_i5': 'objeto', '_5': 'Hola', '_i6': \"def ambitos():\\n    lista = [1, 2, 3]\\n    nulo = None\\n    print('Espacio de nombres en el ámbito local:')\\n    print('%s\\\\n%s\\\\n' %(locals(), dir()))\\n    print('Espacio de nombres en el ámbito global:')\\n    print(globals())\", 'ambitos': <function ambitos at 0x0000016B5F1C2D30>, '_i7': \"def ambitos():\\n    lista = [1, 2, 3]\\n    nulo = None\\n    print('Espacio de nombres en el ámbito local:')\\n    print('%s\\\\n%s\\\\n' %(locals(), dir()))\\n    print('Espacio de nombres en el ámbito global:')\\n    print(globals())\", '_i8': 'ambitos()'}\n"
     ]
    }
   ],
   "source": [
    "ambitos()"
   ]
  },
  {
   "cell_type": "code",
   "execution_count": null,
   "metadata": {},
   "outputs": [],
   "source": [
    "dir()"
   ]
  },
  {
   "cell_type": "markdown",
   "metadata": {},
   "source": [
    "### Búsqueda de nombres entre ámbitos.\n",
    "\n",
    "Cuando se invoca a una función y se hace una referencia a un nombre, el intérprete primeramente busca una coincidencia dentro del ámbito local y posteriormente en el ámbito global. En caso de no encontrarla, se generará un error de tipo _NameError_.\n",
    "\n",
    "**Ejemplo:**\n",
    "\n",
    "* Se creará la función _trino()_, haciendo referencia al nombre _ave_, pero no se definirá en el ámbito global ni en el local.\n",
    "* Se invocará a la función _trino()_.\n",
    "* Se definirá a un objeto de tipo _str_ con el nombre _ave_.\n",
    "* Se invocará nuevamente a la función _trino()_.\n",
    "\n"
   ]
  },
  {
   "cell_type": "code",
   "execution_count": 9,
   "metadata": {},
   "outputs": [],
   "source": [
    "def trino():\n",
    "    print(ave * 3)"
   ]
  },
  {
   "cell_type": "code",
   "execution_count": 10,
   "metadata": {},
   "outputs": [
    {
     "ename": "NameError",
     "evalue": "name 'ave' is not defined",
     "output_type": "error",
     "traceback": [
      "\u001b[1;31m---------------------------------------------------------------------------\u001b[0m",
      "\u001b[1;31mNameError\u001b[0m                                 Traceback (most recent call last)",
      "\u001b[1;32m<ipython-input-10-53be3ae18f86>\u001b[0m in \u001b[0;36m<module>\u001b[1;34m\u001b[0m\n\u001b[1;32m----> 1\u001b[1;33m \u001b[0mtrino\u001b[0m\u001b[1;33m(\u001b[0m\u001b[1;33m)\u001b[0m\u001b[1;33m\u001b[0m\u001b[1;33m\u001b[0m\u001b[0m\n\u001b[0m",
      "\u001b[1;32m<ipython-input-9-1fdbd5e0ef78>\u001b[0m in \u001b[0;36mtrino\u001b[1;34m()\u001b[0m\n\u001b[0;32m      1\u001b[0m \u001b[1;32mdef\u001b[0m \u001b[0mtrino\u001b[0m\u001b[1;33m(\u001b[0m\u001b[1;33m)\u001b[0m\u001b[1;33m:\u001b[0m\u001b[1;33m\u001b[0m\u001b[1;33m\u001b[0m\u001b[0m\n\u001b[1;32m----> 2\u001b[1;33m     \u001b[0mprint\u001b[0m\u001b[1;33m(\u001b[0m\u001b[0mave\u001b[0m \u001b[1;33m*\u001b[0m \u001b[1;36m3\u001b[0m\u001b[1;33m)\u001b[0m\u001b[1;33m\u001b[0m\u001b[1;33m\u001b[0m\u001b[0m\n\u001b[0m",
      "\u001b[1;31mNameError\u001b[0m: name 'ave' is not defined"
     ]
    }
   ],
   "source": [
    "trino()"
   ]
  },
  {
   "cell_type": "code",
   "execution_count": 11,
   "metadata": {},
   "outputs": [],
   "source": [
    "ave = 'pio'"
   ]
  },
  {
   "cell_type": "code",
   "execution_count": 12,
   "metadata": {},
   "outputs": [
    {
     "name": "stdout",
     "output_type": "stream",
     "text": [
      "piopiopio\n"
     ]
    }
   ],
   "source": [
    "trino()"
   ]
  },
  {
   "cell_type": "markdown",
   "metadata": {},
   "source": [
    "**Ejemplo:**\n",
    "\n",
    "* Se creará la función _multiplica()_, definiendo en el ámbito local a un objeto de tipo _int_ con el nombre _factor_ y haciendo una referencia dicho nombre.\n",
    "* Se invocará a la función _multiplica()_.\n",
    "* Se definirá a un objeto de tipo _str_ con el nombre _factor_.\n",
    "* Se invocará nuevamente a la función _multiplica()_."
   ]
  },
  {
   "cell_type": "code",
   "execution_count": 13,
   "metadata": {},
   "outputs": [],
   "source": [
    "def multiplica():\n",
    "    factor = 12\n",
    "    print(factor * 5)"
   ]
  },
  {
   "cell_type": "code",
   "execution_count": 14,
   "metadata": {},
   "outputs": [
    {
     "name": "stdout",
     "output_type": "stream",
     "text": [
      "60\n"
     ]
    }
   ],
   "source": [
    "multiplica()"
   ]
  },
  {
   "cell_type": "code",
   "execution_count": 15,
   "metadata": {},
   "outputs": [
    {
     "name": "stdout",
     "output_type": "stream",
     "text": [
      "60\n"
     ]
    }
   ],
   "source": [
    "factor = \"factor\"\n",
    "multiplica()"
   ]
  },
  {
   "cell_type": "markdown",
   "metadata": {},
   "source": [
    "### Definiendo nombres en el ámbito global con la expresión _global_.\n",
    "\n",
    "Es posible que una función pueda ligar un objeto al espacio de nombres del ámbito global mediante el uso de la expresión _global_ con la siguiente sintaxis.\n",
    "\n",
    "```\n",
    "global <nombre>\n",
    "<nombre> = <valor>\n",
    "```\n",
    "**Ejemplo:**"
   ]
  },
  {
   "cell_type": "code",
   "execution_count": 16,
   "metadata": {},
   "outputs": [],
   "source": [
    "def nombre_global():\n",
    "    global nombre\n",
    "    nombre = \"Hola\""
   ]
  },
  {
   "cell_type": "code",
   "execution_count": 17,
   "metadata": {},
   "outputs": [
    {
     "ename": "NameError",
     "evalue": "name 'nombre' is not defined",
     "output_type": "error",
     "traceback": [
      "\u001b[1;31m---------------------------------------------------------------------------\u001b[0m",
      "\u001b[1;31mNameError\u001b[0m                                 Traceback (most recent call last)",
      "\u001b[1;32m<ipython-input-17-537e465e3aa0>\u001b[0m in \u001b[0;36m<module>\u001b[1;34m\u001b[0m\n\u001b[1;32m----> 1\u001b[1;33m \u001b[0mnombre\u001b[0m\u001b[1;33m\u001b[0m\u001b[1;33m\u001b[0m\u001b[0m\n\u001b[0m",
      "\u001b[1;31mNameError\u001b[0m: name 'nombre' is not defined"
     ]
    }
   ],
   "source": [
    "nombre"
   ]
  },
  {
   "cell_type": "code",
   "execution_count": 18,
   "metadata": {},
   "outputs": [],
   "source": [
    "nombre_global()"
   ]
  },
  {
   "cell_type": "code",
   "execution_count": 19,
   "metadata": {},
   "outputs": [
    {
     "data": {
      "text/plain": [
       "'Hola'"
      ]
     },
     "execution_count": 19,
     "metadata": {},
     "output_type": "execute_result"
    }
   ],
   "source": [
    "nombre"
   ]
  },
  {
   "cell_type": "markdown",
   "metadata": {},
   "source": [
    "## Parámetros y argumentos.\n",
    "\n",
    "Es posible ingresar datos al ser invocadas a estos datos se les denomina **argumentos** y son ligados a nombres (sustantivos), los cuales se conocen como **parámetros**. Una función puede esperar con uno o más parámetros (que irán separados por una coma) o ninguno. El número de argumentos ingresados debe corresponder al número de parámetros que se definen. En caso de que no se ingresen los argumentos necesarios, se generará un error de tipo _TypeError_.\n",
    "\n",
    "```\n",
    "def función(par1, par2, ..., parn[= valor_inicial]):\n",
    "    # código de la función\n",
    "```\n",
    "\n",
    "**Ejemplo:**\n"
   ]
  },
  {
   "cell_type": "code",
   "execution_count": 20,
   "metadata": {},
   "outputs": [],
   "source": [
    "def hola(arg):\n",
    "    \"\"\"Imprime un mensaje de saludo, utilizando el contenido de arg\"\"\"\n",
    "    print (\"Hola \", arg, \"!\")          "
   ]
  },
  {
   "cell_type": "code",
   "execution_count": 21,
   "metadata": {},
   "outputs": [],
   "source": [
    "def suma(primero, segundo):\n",
    "    '''Despliega la suma de dos objetos'''\n",
    "    print(primero + segundo)"
   ]
  },
  {
   "cell_type": "code",
   "execution_count": 22,
   "metadata": {},
   "outputs": [
    {
     "name": "stdout",
     "output_type": "stream",
     "text": [
      "17\n"
     ]
    }
   ],
   "source": [
    "suma(12, 5)"
   ]
  },
  {
   "cell_type": "code",
   "execution_count": 23,
   "metadata": {},
   "outputs": [
    {
     "name": "stdout",
     "output_type": "stream",
     "text": [
      "Hola, Mundo.\n"
     ]
    }
   ],
   "source": [
    "suma('Hola, ', 'Mundo.')"
   ]
  },
  {
   "cell_type": "code",
   "execution_count": 24,
   "metadata": {},
   "outputs": [
    {
     "ename": "TypeError",
     "evalue": "suma() missing 1 required positional argument: 'segundo'",
     "output_type": "error",
     "traceback": [
      "\u001b[1;31m---------------------------------------------------------------------------\u001b[0m",
      "\u001b[1;31mTypeError\u001b[0m                                 Traceback (most recent call last)",
      "\u001b[1;32m<ipython-input-24-372196a75955>\u001b[0m in \u001b[0;36m<module>\u001b[1;34m\u001b[0m\n\u001b[1;32m----> 1\u001b[1;33m \u001b[0msuma\u001b[0m\u001b[1;33m(\u001b[0m\u001b[1;34m'Hola'\u001b[0m\u001b[1;33m)\u001b[0m\u001b[1;33m\u001b[0m\u001b[1;33m\u001b[0m\u001b[0m\n\u001b[0m",
      "\u001b[1;31mTypeError\u001b[0m: suma() missing 1 required positional argument: 'segundo'"
     ]
    }
   ],
   "source": [
    "suma('Hola')"
   ]
  },
  {
   "cell_type": "code",
   "execution_count": null,
   "metadata": {},
   "outputs": [],
   "source": [
    "suma('Hola, ', 'Mundo', '.')"
   ]
  },
  {
   "cell_type": "markdown",
   "metadata": {},
   "source": [
    "### Parámetros con argumentos por defecto.\n",
    "\n",
    "Es posible asignar valores por defecto a cada parámetro definido en una función mediante el operado de asignación ( *=* ).\n",
    "\n",
    "Si a todos los parámetros se les asigna un valor, entonces no es necesario ingresar argumentos al invocar la función, ya que dichos valores serán utilizados. Los argumentos que se ingresen se irán sustituyendo de izquierda a derecha.\n",
    "\n",
    "**Ejemplo:**"
   ]
  },
  {
   "cell_type": "code",
   "execution_count": 25,
   "metadata": {},
   "outputs": [],
   "source": [
    "def suma(primero=1, segundo=3):\n",
    "    '''Despliega la suma de dos objetos'''\n",
    "    print(primero + segundo)"
   ]
  },
  {
   "cell_type": "code",
   "execution_count": 26,
   "metadata": {},
   "outputs": [
    {
     "name": "stdout",
     "output_type": "stream",
     "text": [
      "4\n"
     ]
    }
   ],
   "source": [
    "suma()"
   ]
  },
  {
   "cell_type": "code",
   "execution_count": 27,
   "metadata": {},
   "outputs": [
    {
     "name": "stdout",
     "output_type": "stream",
     "text": [
      "5\n"
     ]
    }
   ],
   "source": [
    "suma(2)"
   ]
  },
  {
   "cell_type": "code",
   "execution_count": 28,
   "metadata": {},
   "outputs": [
    {
     "name": "stdout",
     "output_type": "stream",
     "text": [
      "7\n"
     ]
    }
   ],
   "source": [
    "suma(2, 5)"
   ]
  },
  {
   "cell_type": "markdown",
   "metadata": {},
   "source": [
    "Si se asignaran valores por defecto a sólo algunos parámetros, dichos valores se deben dejar a la  derecha de la lista de parámetros. De no ser así, se generará un error de tipo _SyntaxError_.\n",
    "\n",
    "**Ejemplo:**"
   ]
  },
  {
   "cell_type": "code",
   "execution_count": 29,
   "metadata": {},
   "outputs": [],
   "source": [
    "def suma(primero, segundo=3):\n",
    "    '''Despliega la suma de dos objetos'''\n",
    "    print(primero + segundo)"
   ]
  },
  {
   "cell_type": "code",
   "execution_count": 30,
   "metadata": {},
   "outputs": [
    {
     "name": "stdout",
     "output_type": "stream",
     "text": [
      "5\n"
     ]
    }
   ],
   "source": [
    "suma(2)"
   ]
  },
  {
   "cell_type": "code",
   "execution_count": 31,
   "metadata": {},
   "outputs": [
    {
     "name": "stdout",
     "output_type": "stream",
     "text": [
      "243\n"
     ]
    }
   ],
   "source": [
    "suma(\"2\", \"43\")"
   ]
  },
  {
   "cell_type": "markdown",
   "metadata": {},
   "source": [
    "**Ejemplo:**"
   ]
  },
  {
   "cell_type": "code",
   "execution_count": 4,
   "metadata": {},
   "outputs": [
    {
     "ename": "SyntaxError",
     "evalue": "non-default argument follows default argument (<ipython-input-4-367742ad56da>, line 1)",
     "output_type": "error",
     "traceback": [
      "\u001b[1;36m  File \u001b[1;32m\"<ipython-input-4-367742ad56da>\"\u001b[1;36m, line \u001b[1;32m1\u001b[0m\n\u001b[1;33m    def suma(primero=1, segundo):\u001b[0m\n\u001b[1;37m            ^\u001b[0m\n\u001b[1;31mSyntaxError\u001b[0m\u001b[1;31m:\u001b[0m non-default argument follows default argument\n"
     ]
    }
   ],
   "source": [
    "def suma(primero=1, segundo):\n",
    "    '''Despliega la suma de dos objetos'''\n",
    "    print(primero + segundo)"
   ]
  },
  {
   "cell_type": "markdown",
   "metadata": {},
   "source": [
    "### Argumentos por nombre\n",
    "\n",
    "Es posible evadir el orden de los parámetros, si indica durante la llamada que valor tiene cada parámetro a partir de su nombre. En caso de no pasar los argumentos correctamente provocará una excepción TypeError.\n",
    "\n",
    "**Ejemplo:**"
   ]
  },
  {
   "cell_type": "code",
   "execution_count": 32,
   "metadata": {},
   "outputs": [
    {
     "name": "stdout",
     "output_type": "stream",
     "text": [
      "-20\n"
     ]
    }
   ],
   "source": [
    "def resta(a, b):\n",
    "    '''Devuelve la resta de a - b'''\n",
    "    print(a - b)\n",
    "\n",
    "resta(b=30, a=10)"
   ]
  },
  {
   "cell_type": "code",
   "execution_count": null,
   "metadata": {},
   "outputs": [],
   "source": [
    "resta()"
   ]
  },
  {
   "cell_type": "markdown",
   "metadata": {},
   "source": [
    "### Captura de varios argumentos en un parámetro de tipo _tuple_ (args).\n",
    "\n",
    "Es posible definir un parámetro que acepte un número indeterminado de argumentos y que éstos queden guardados dentro de un objeto tipo _tuple_. Para esto, basta preceder al nombre del parámetro con un solo asterisco (*).\n",
    "\n",
    "**Ejemplo:**"
   ]
  },
  {
   "cell_type": "code",
   "execution_count": null,
   "metadata": {},
   "outputs": [],
   "source": [
    "def promedio(*muestras):\n",
    "    '''Calcula el promedio de la muestra correspondiente a todos los parámetros ingresados.'''\n",
    "    promedio = sum(muestras)/len(muestras)\n",
    "    print('El promedio de la muestra de %d elementos es %.3f.' %(len(muestras), promedio))"
   ]
  },
  {
   "cell_type": "code",
   "execution_count": null,
   "metadata": {},
   "outputs": [],
   "source": [
    "promedio(1, 3, 5, 8, 11, 24, 90, 29)\n",
    "promedio(14, 38, 1)"
   ]
  },
  {
   "cell_type": "markdown",
   "metadata": {},
   "source": [
    "El parámetro que recibe más de un argumento debe definirse al final de la lista de parámetros.\n",
    "\n",
    "**Ejemplo:**"
   ]
  },
  {
   "cell_type": "code",
   "execution_count": null,
   "metadata": {},
   "outputs": [],
   "source": [
    "def promedio(titulo, *muestras):\n",
    "    '''Calcula el promedio de la muestra correspondiente a todos los parámetros ingresados con excepción\n",
    "       del primero, el cual será utilizado como título.'''\n",
    "    promedio = sum(muestras)/len(muestras)\n",
    "    print(titulo)\n",
    "    print('El promedio de la muestra de %d elementos es %.3f.' %(len(muestras), promedio))"
   ]
  },
  {
   "cell_type": "code",
   "execution_count": null,
   "metadata": {},
   "outputs": [],
   "source": [
    "promedio('Conteo de abejas en campo.', 34, 45, 61, 23, 47, 41, 52)"
   ]
  },
  {
   "cell_type": "code",
   "execution_count": null,
   "metadata": {},
   "outputs": [],
   "source": [
    "promedio(1, 3, 5, 8, 11, 24, 90, 29)"
   ]
  },
  {
   "cell_type": "markdown",
   "metadata": {},
   "source": [
    "### Captura de varios argumentos en un parámetro de tipo *dict* (kargs).\n",
    "\n",
    "Es posible definir los parámetros y valores que se ingresan a una función mediante el uso de la sintaxis _nombre = valor_ y que estos parámetros queden almacenados en un objeto tipo _dict_. Para esto, basta preceder al nombre del parámetro con doble asterisco ( _**_ ).\n",
    "\n",
    "**Ejemplo:**"
   ]
  },
  {
   "cell_type": "code",
   "execution_count": 33,
   "metadata": {},
   "outputs": [],
   "source": [
    "def superficie(**dato):\n",
    "    '''Calcula la superficie de una figura geométrica si los parámetros  ingresados\n",
    "       coinciden.'''\n",
    "    if dato[\"tipo\"] == \"Rectángulo\":\n",
    "        superficie = float(dato[\"base\"]) * float(dato[\"altura\"])\n",
    "    elif dato[\"tipo\"] == \"Triángulo\":\n",
    "        superficie = float(dato[\"base\"]) * float(dato[\"altura\"]) / 2\n",
    "    elif dato[\"tipo\"] == \"Círculo\":\n",
    "        superficie = float(dato[\"radio\"]) ** 2 * 3.14259265\n",
    "    else:\n",
    "        print(\"No puedo calcular la superficie.\")\n",
    "    print(\"La superficie del %s es de %.3f\" % (dato[\"tipo\"].lower(), superficie))"
   ]
  },
  {
   "cell_type": "code",
   "execution_count": 34,
   "metadata": {},
   "outputs": [
    {
     "name": "stdout",
     "output_type": "stream",
     "text": [
      "La superficie del rectángulo es de 660.000\n"
     ]
    }
   ],
   "source": [
    "superficie(base=22, altura=30, tipo=\"Rectángulo\")"
   ]
  },
  {
   "cell_type": "code",
   "execution_count": 35,
   "metadata": {},
   "outputs": [
    {
     "name": "stdout",
     "output_type": "stream",
     "text": [
      "La superficie del círculo es de 3849.676\n"
     ]
    }
   ],
   "source": [
    "superficie(tipo=\"Círculo\", radio = 35)"
   ]
  },
  {
   "cell_type": "markdown",
   "metadata": {},
   "source": [
    "Es posible recorrer los argumentos arbitrarios, los de tipo clave se recorren como un diccionario.\n",
    "\n",
    "**Ejemplo:**"
   ]
  },
  {
   "cell_type": "code",
   "execution_count": 36,
   "metadata": {},
   "outputs": [
    {
     "name": "stdout",
     "output_type": "stream",
     "text": [
      "fixed\n",
      "arbitrario 1\n",
      "arbitrario 2\n",
      "arbitrario 3\n",
      "El valor de  clave1  es  valor uno\n",
      "El valor de  clave2  es  valor dos\n"
     ]
    }
   ],
   "source": [
    "def recorrer_parametros_arbitrarios(parametro_fijo, *arbitrarios, \n",
    "                                    **kwords):\n",
    "    print (parametro_fijo)\n",
    "\n",
    "    for argumento in arbitrarios:\n",
    "        print (argumento)\n",
    "\n",
    "    for clave in kwords:\n",
    "        print ('El valor de ', clave, ' es ', kwords[clave])\n",
    "\n",
    "recorrer_parametros_arbitrarios('fixed', 'arbitrario 1', \n",
    "                                'arbitrario 2', 'arbitrario 3', \n",
    "                                clave1='valor uno', \n",
    "                                clave2='valor dos')"
   ]
  },
  {
   "cell_type": "markdown",
   "metadata": {},
   "source": [
    "## Funciones que regresan valores y cerraduras.\n",
    "\n",
    "Todas las funciones regresan un valor al finalizar su ejecución al cual se le puede asignar un nombre si se desea conservarlo. Por defecto, el valor que regresan es _None_, el cual a diferencia de otros valores no es desplegado por el intérprete.\n",
    "\n",
    "**Ejemplo:**"
   ]
  },
  {
   "cell_type": "code",
   "execution_count": 37,
   "metadata": {},
   "outputs": [],
   "source": [
    "def funcion():\n",
    "    '''función en desarrollo'''\n",
    "    pass"
   ]
  },
  {
   "cell_type": "code",
   "execution_count": 38,
   "metadata": {},
   "outputs": [
    {
     "name": "stdout",
     "output_type": "stream",
     "text": [
      "None\n"
     ]
    }
   ],
   "source": [
    "resultado = funcion()\n",
    "print(resultado)"
   ]
  },
  {
   "cell_type": "code",
   "execution_count": 40,
   "metadata": {},
   "outputs": [],
   "source": [
    "resultado"
   ]
  },
  {
   "cell_type": "markdown",
   "metadata": {
    "collapsed": true
   },
   "source": [
    "### La expresión _return_.\n",
    "\n",
    "La expresión _return_ se utiliza para regresar un objeto específico a su ámbito superior y acto seguido dar por terminada la ejecución de la función de forma similar a _break_. Pueden incluirse varias expresiones _return_ en una función, pero sólo se ejecutará la primera que se encuentre. La sintaxis es la siguiente:\n",
    "\n",
    "```\n",
    "return <objeto>\n",
    "```\n",
    "\n",
    "**Nota:** Por defecto, las funciones retorna el valor None.\n",
    "\n",
    "**Ejemplo:**"
   ]
  },
  {
   "cell_type": "code",
   "execution_count": 41,
   "metadata": {},
   "outputs": [],
   "source": [
    "def promedio(*muestras):\n",
    "    '''retorna el promedio de las muestras'''\n",
    "    return (len(muestras), sum(muestras) / len(muestras))"
   ]
  },
  {
   "cell_type": "code",
   "execution_count": 42,
   "metadata": {},
   "outputs": [
    {
     "data": {
      "text/plain": [
       "(8, 21.375)"
      ]
     },
     "execution_count": 42,
     "metadata": {},
     "output_type": "execute_result"
    }
   ],
   "source": [
    "promedio(1, 3, 5, 8, 11, 24, 90, 29)"
   ]
  },
  {
   "cell_type": "code",
   "execution_count": 45,
   "metadata": {},
   "outputs": [
    {
     "data": {
      "text/plain": [
       "(8, 21.375)"
      ]
     },
     "execution_count": 45,
     "metadata": {},
     "output_type": "execute_result"
    }
   ],
   "source": [
    "media = promedio(1, 3, 5, 8, 11, 24, 90, 29)\n",
    "media"
   ]
  },
  {
   "cell_type": "code",
   "execution_count": null,
   "metadata": {},
   "outputs": [],
   "source": [
    "print('El promedio de la muestra de %d elementos es %.3f.' %(media))"
   ]
  },
  {
   "cell_type": "markdown",
   "metadata": {},
   "source": [
    "### Retorno múltiple\n",
    "Una característica interesante, es la posibilidad de devolver valores múltiples separados por comas."
   ]
  },
  {
   "cell_type": "code",
   "execution_count": 49,
   "metadata": {},
   "outputs": [],
   "source": [
    "def prueba():\n",
    "    return \"Plone CMS\", 20, [1,2,3]"
   ]
  },
  {
   "cell_type": "code",
   "execution_count": 50,
   "metadata": {},
   "outputs": [
    {
     "data": {
      "text/plain": [
       "('Plone CMS', 20, [1, 2, 3])"
      ]
     },
     "execution_count": 50,
     "metadata": {},
     "output_type": "execute_result"
    }
   ],
   "source": [
    "prueba()"
   ]
  },
  {
   "cell_type": "markdown",
   "metadata": {},
   "source": [
    "En el código anterior los valores múltiples se tratan en conjunto como una tupla inmutable y se pueden reasignar a distintas variables."
   ]
  },
  {
   "cell_type": "code",
   "execution_count": 51,
   "metadata": {},
   "outputs": [
    {
     "name": "stdout",
     "output_type": "stream",
     "text": [
      "Plone CMS <class 'str'>\n",
      "20 <class 'int'>\n",
      "[1, 2, 3] <class 'list'>\n"
     ]
    }
   ],
   "source": [
    "cadena, numero, lista = prueba()\n",
    "print (cadena, type(cadena))\n",
    "print (numero, type(numero))\n",
    "print (lista, type(lista))"
   ]
  },
  {
   "cell_type": "markdown",
   "metadata": {},
   "source": [
    "### Variables locales\n",
    "Las variables locales, son declaradas dentro de la función y al acabar su ejecución se borran de memoria. Los parámetros de entrada a la función también actúan como variables locales."
   ]
  },
  {
   "cell_type": "markdown",
   "metadata": {},
   "source": [
    "### Variables globales\n",
    "Las funciones pueden incluir también variables globales. Éstas se declaran dentro de la función precedidas por la palabra reservada global. Si una variable del programa principal tiene el mismo identificador que la definida como global dentro de una función, entonces será modificada por cualquier asignación de la variable global. El uso de las variables globales se  debe hacer con moderación. Aunque evitaremos utilizarla en los programas.\n",
    "\n",
    "**Ejemplo:**"
   ]
  },
  {
   "cell_type": "code",
   "execution_count": 7,
   "metadata": {},
   "outputs": [
    {
     "name": "stdout",
     "output_type": "stream",
     "text": [
      "Función:  12\n",
      "Valor de la variable global a:  3\n"
     ]
    }
   ],
   "source": [
    "def f(x):\n",
    "    global a\n",
    "    a = 3\n",
    "    return 3*x\n",
    "\n",
    "a = 7\n",
    "print('Función: ', f(4))\n",
    "print('Valor de la variable global a: ', a)"
   ]
  },
  {
   "cell_type": "markdown",
   "metadata": {},
   "source": [
    "### Desempaquetado de parámetros\n",
    "Puede ocurrir además, una situación inversa a la anterior. Es decir, que la función espere una lista fija de parámetros, pero que éstos, en vez de estar disponibles de forma separada, se encuentren contenidos en una lista o tupla. En este caso, el signo asterisco (*) deberá preceder al nombre de la lista o tupla que es pasada como parámetro durante la llamada a la función.\n",
    "\n",
    "**Ejemplo:**"
   ]
  },
  {
   "cell_type": "code",
   "execution_count": 8,
   "metadata": {},
   "outputs": [
    {
     "name": "stdout",
     "output_type": "stream",
     "text": [
      "1350.0\n"
     ]
    }
   ],
   "source": [
    "def calcular(importe, descuento):\n",
    "    return importe - (importe * descuento / 100)\n",
    "\n",
    "datos = [1500, 10]\n",
    "print (calcular(*datos))"
   ]
  },
  {
   "cell_type": "markdown",
   "metadata": {},
   "source": [
    "El mismo caso puede darse cuando los valores a ser pasados como parámetros a una función, se encuentren disponibles en un diccionario. Aquí, deberán pasarse a la función, precedidos de dos asteriscos (**):"
   ]
  },
  {
   "cell_type": "code",
   "execution_count": null,
   "metadata": {},
   "outputs": [],
   "source": [
    "def calcular(importe, descuento):\n",
    "    return importe - (importe * descuento / 100)\n",
    "\n",
    "datos = {'descuento': 10, 'importe': 1500}\n",
    "print (calcular(**datos))"
   ]
  },
  {
   "cell_type": "markdown",
   "metadata": {},
   "source": [
    "### Parámetros por Valor o por Referencia\n",
    "En Python los pasos por parámetros son en general por referencia. La excepción la conforman los tipos de datos básicos o inmutables (enteros, flotantes, ...), que se pasan por valor."
   ]
  },
  {
   "cell_type": "code",
   "execution_count": 10,
   "metadata": {},
   "outputs": [
    {
     "name": "stdout",
     "output_type": "stream",
     "text": [
      "7\n",
      "[1, 6, 3, 4]\n",
      "[1, 6, 3, 4]\n",
      "2\n"
     ]
    }
   ],
   "source": [
    "# Ejemplos de definiciones y llamadas de funciones\n",
    "# función para verificar la modificabilidad de los parámetros\n",
    "def persistenciaParametros (parametro1 , parametro2):\n",
    "    parametro1 = parametro1 + 5\n",
    "    parametro2 [1] = 6\n",
    "    print(parametro1)\n",
    "    print(parametro2)\n",
    "    \n",
    "numeros = [1, 2, 3, 4] \n",
    "valorInmutable = 2\n",
    "persistenciaParametros (valorInmutable, numeros) \n",
    "print(numeros) \n",
    "print(valorInmutable)"
   ]
  },
  {
   "cell_type": "markdown",
   "metadata": {
    "collapsed": true
   },
   "source": [
    "### Cerraduras.\n",
    "\n",
    "El valor que regresa una función se conoce como \"cerradura\" o \"closure\" y tiene características muy particulares ya que se encuentra justo entre el ámbito local de una función y su ámbito superior.\n",
    "\n",
    "## Funciones anidadas.\n",
    "\n",
    "Python permite definir funciones dentro de otras funciones.\n",
    "\n",
    "**Ejemplo:**\n"
   ]
  },
  {
   "cell_type": "code",
   "execution_count": null,
   "metadata": {},
   "outputs": [],
   "source": [
    "def lista_primos(limite=100):\n",
    "    '''Genera una lista de los números primos comprendidos entre el 2 y el valor de limite.'''\n",
    "    #La lista inicia con el número 2\n",
    "    lista = [2]\n",
    "   \n",
    "    def esprimo(numero):\n",
    "        '''Valida si numero es divisible entre algún elemento de lista. De ocurrir, \n",
    "        regresa False. De lo contrario, regresa True.'''\n",
    "        for primo in lista:\n",
    "            if numero % primo == 0:\n",
    "                return False\n",
    "        return True\n",
    "    #Se realizará una iteración de cada número entero desde 3 hasta el valor de limite.\n",
    "    for numero in range(3, limite + 1):\n",
    "        #Si esprimo(numero) regresa True, añade el valor de numero a lista\n",
    "        if esprimo(numero):\n",
    "            lista.append(numero)\n",
    "    return lista"
   ]
  },
  {
   "cell_type": "code",
   "execution_count": null,
   "metadata": {},
   "outputs": [],
   "source": [
    "lista_primos(103)"
   ]
  },
  {
   "cell_type": "markdown",
   "metadata": {},
   "source": [
    "En el ejemplo anterior se definió a la función _esprimo()_ dentro de la función _listaprimos()_. Como se puede observar, el nombre _lista_ está en el espacio de nombres de _listaprimos()_, pero al estar en un entorno superior al ámbito de _esprimo()_, éste puede acceder a _lista_."
   ]
  },
  {
   "cell_type": "markdown",
   "metadata": {},
   "source": [
    "## Recursividad.\n",
    "\n",
    "Python permite hacer llamadas recursivas a una función. Es decir, que la función se invoque a si misma. \n",
    "\n",
    "Cada vez que una función se invoca a si misma, Python crea un nuevo objeto de tipo _function_ con las mismas características que la función original, pero con un ámbito totalmente nuevo y de nivel inferior a la función original.\n",
    "\n",
    "**Ejemplo:**"
   ]
  },
  {
   "cell_type": "code",
   "execution_count": null,
   "metadata": {},
   "outputs": [],
   "source": [
    "def factorial(numero):\n",
    "    if numero == 1:\n",
    "        return 1\n",
    "    else:\n",
    "        fact = numero * factorial(numero - 1)\n",
    "        return fact"
   ]
  },
  {
   "cell_type": "code",
   "execution_count": null,
   "metadata": {},
   "outputs": [],
   "source": [
    "factorial(5)"
   ]
  },
  {
   "cell_type": "markdown",
   "metadata": {},
   "source": [
    "En este caso, la función _factorial()_ se invoca recursivamente, pero cada vez que lo hace, el valor del argumento decrece en 1 de forma sucesiva hasta que el parámetro _numero_ alcanza el valor de 1 y regresa dicho valor. Es entonces que la cerradura de la función de nivel inferior se multiplica por el parámetro _numero_ de la función superior hasta llegar a la función de más alto nivel.\n",
    "\n",
    "Ahora se incluirán algunas modificaciones al ejemplo anterior para ilustrar el proceso."
   ]
  },
  {
   "cell_type": "code",
   "execution_count": null,
   "metadata": {},
   "outputs": [],
   "source": [
    "def factorial(numero):\n",
    "    print('En este ámbito, numero =', numero)\n",
    "    if numero == 1:\n",
    "        print('Llegó al final.\\nRegresa 1!')\n",
    "        return 1\n",
    "    else:\n",
    "        fact = numero * factorial(numero - 1)\n",
    "        print('Regresa %d!: %d' %(numero, fact))\n",
    "        return fact"
   ]
  },
  {
   "cell_type": "code",
   "execution_count": null,
   "metadata": {},
   "outputs": [],
   "source": [
    "factorial(5)"
   ]
  },
  {
   "cell_type": "markdown",
   "metadata": {},
   "source": [
    "## Funciones de orden superior.\n",
    "\n",
    "Las funciones de orden superior son funciones que aceptan funciones como argumentos y a su vez regresan funciones.\n",
    "\n",
    "**Ejemplo:**\n",
    "\n",
    "La función _html()_ puede recibir una función y regresará una función que de por resultado el cuerpo básico de un documento en HTML5 que envuelva al resultado de la función usada como argumento. Por otro lado, la función _parrafo()_ transforma un texto en un párrafo rodeado por las etiquetas HTML correspondientes."
   ]
  },
  {
   "cell_type": "code",
   "execution_count": null,
   "metadata": {},
   "outputs": [],
   "source": [
    "def html(funcion):\n",
    "    '''Añade las etiquetas básicas de un documento HTML5 al elemento \n",
    "       resultante del argumento funcion.'''\n",
    "    etiquetas = \"<html>\\n  <head>\\n    <title>Página</title>\\n  </head>\\n  <body>\\n    {}\\n  </body>\\n</html>\"\n",
    "    def empaqueta(texto):\n",
    "        '''Permite encerrar entre etiquetas de HTML5 al resultado de funcion(texto).'''\n",
    "        return etiquetas.format(funcion(texto))\n",
    "    return empaqueta"
   ]
  },
  {
   "cell_type": "code",
   "execution_count": null,
   "metadata": {},
   "outputs": [],
   "source": [
    "help(html)"
   ]
  },
  {
   "cell_type": "code",
   "execution_count": null,
   "metadata": {},
   "outputs": [],
   "source": [
    "def parrafo(texto):\n",
    "    '''Encierra entre las etiquetas de párrafo al elemento texto.'''\n",
    "    return '<p>' + str(texto) + '</p>'"
   ]
  },
  {
   "cell_type": "code",
   "execution_count": null,
   "metadata": {},
   "outputs": [],
   "source": [
    "print(parrafo('Hola, Mundo.'))"
   ]
  },
  {
   "cell_type": "code",
   "execution_count": null,
   "metadata": {},
   "outputs": [],
   "source": [
    "help(parrafo)"
   ]
  },
  {
   "cell_type": "code",
   "execution_count": null,
   "metadata": {},
   "outputs": [],
   "source": [
    "print(html(parrafo)('Hola, Mundo.'))"
   ]
  },
  {
   "cell_type": "code",
   "execution_count": null,
   "metadata": {},
   "outputs": [],
   "source": [
    "help(html(parrafo))"
   ]
  },
  {
   "cell_type": "markdown",
   "metadata": {},
   "source": [
    "## Decoradores.\n",
    "\n",
    "Los decoradores son un recurso de Python que permite aplicar una función de orden superior a otra función con la siguiente sintaxis.\n",
    "\n",
    "```\n",
    "@<nombre de función de orden superior>\n",
    "def <nombre>(<argumentos>):\n",
    "    ...\n",
    "    ...\n",
    "```\n",
    "\n",
    "**Ejemplo:**\n",
    "\n",
    "Se utilizará el decorador de la función _html()_ aplicado a la función _parrafo()_."
   ]
  },
  {
   "cell_type": "code",
   "execution_count": null,
   "metadata": {},
   "outputs": [],
   "source": [
    "def html(funcion):\n",
    "    '''Añade las etiquetas básicas de un documento HTML5 al elemento \n",
    "       resultante del argumento funcion.'''\n",
    "    etiquetas = \"<html>\\n  <head>\\n    <title>Página</title>\\n  </head>\\n  <body>\\n    {}\\n  </body>\\n</html>\"\n",
    "    def empaqueta(texto):\n",
    "        '''Permite encerrar entre etiquetas de HTML5 al resultado de funcion(texto).'''\n",
    "        return etiquetas.format(funcion(texto))\n",
    "    return empaqueta"
   ]
  },
  {
   "cell_type": "code",
   "execution_count": null,
   "metadata": {},
   "outputs": [],
   "source": [
    "@html\n",
    "def parrafo(texto):\n",
    "    '''Encierra entre las etiquetas de párrafo al elemento texto.'''\n",
    "    return '<p>' + str(texto) + '</p>'"
   ]
  },
  {
   "cell_type": "code",
   "execution_count": null,
   "metadata": {},
   "outputs": [],
   "source": [
    "print(parrafo(\"Hola, Mundo.\"))"
   ]
  },
  {
   "cell_type": "code",
   "execution_count": null,
   "metadata": {},
   "outputs": [],
   "source": [
    "help(parrafo)"
   ]
  },
  {
   "cell_type": "markdown",
   "metadata": {},
   "source": [
    "\n",
    "## Definición de funciones con la declaración *lambda*.\n",
    "\n",
    "Python permite definir funciones en una sola línea mediante el uso del la expresión lambda con la siguiente sintaxis:\n",
    "\n",
    "```\n",
    "lambda <argumentos>: <código>\n",
    "```\n",
    "\n",
    "A este tipo de funciones se les conoce como funciones lambda o funciones anónimas debido a que no requieren de un nombre para ser definidas.\n",
    "\n",
    "Para nombrar a estas funciones se utiliza el operador de asignación ( _=_ ).\n",
    "\n",
    "**Ejemplo:**\n"
   ]
  },
  {
   "cell_type": "code",
   "execution_count": null,
   "metadata": {},
   "outputs": [],
   "source": [
    "saluda = lambda texto='extraño', ancho=50: print('Hola, {}.'.format(texto).center(ancho))"
   ]
  },
  {
   "cell_type": "code",
   "execution_count": null,
   "metadata": {},
   "outputs": [],
   "source": [
    "type(saluda)"
   ]
  },
  {
   "cell_type": "code",
   "execution_count": null,
   "metadata": {},
   "outputs": [],
   "source": [
    "saluda()"
   ]
  },
  {
   "cell_type": "code",
   "execution_count": null,
   "metadata": {},
   "outputs": [],
   "source": [
    "saluda('Mundo', 20)"
   ]
  },
  {
   "cell_type": "markdown",
   "metadata": {},
   "source": [
    "### Funciones lambda con estructuras *if*... *else*.\n",
    "\n",
    "Las funciones lambda permiten incluir condicionales dentro de su sintaxis de la siguiente forma:\n",
    "```\n",
    "lambda <argumentos>: <expresion_1> if <condición> else <expresión_2>\n",
    "```\n",
    "**Ejemplo:**\n",
    "\n",
    "*es_par* es una función que valida si un número entero ingresado como parámetro es par."
   ]
  },
  {
   "cell_type": "code",
   "execution_count": null,
   "metadata": {},
   "outputs": [],
   "source": [
    "es_par = lambda numero: True if numero % 2 == 0 else False"
   ]
  },
  {
   "cell_type": "code",
   "execution_count": null,
   "metadata": {},
   "outputs": [],
   "source": [
    "es_par(2)"
   ]
  },
  {
   "cell_type": "code",
   "execution_count": null,
   "metadata": {},
   "outputs": [],
   "source": [
    "es_par(3)"
   ]
  },
  {
   "cell_type": "markdown",
   "metadata": {},
   "source": [
    "**Ejemplo:**\n",
    "\n",
    "La función _factorial_ calcula el factorial de un número mediante recursividad. "
   ]
  },
  {
   "cell_type": "code",
   "execution_count": null,
   "metadata": {},
   "outputs": [],
   "source": [
    "factorial = lambda numero: numero * factorial(numero - 1) if numero > 1 else 1"
   ]
  },
  {
   "cell_type": "code",
   "execution_count": null,
   "metadata": {},
   "outputs": [],
   "source": [
    "factorial(5)"
   ]
  },
  {
   "cell_type": "markdown",
   "metadata": {},
   "source": [
    "### Uso de DOCTEST para probar funciones.\n",
    "La función testmod incluida en el módulo doctest busca fragmentos de texto en el docstring como las sesiones interactivas de Python, y luego ejecuta esas sesiones para verificar que funcionan exactamente como se muestra. \u000b",
    "\n",
    "Por ejemplo, dada la función ganancia_dB(), ésta se puede ejecutar varias veces en la consola de Python, o se puede prever qué valores debe dar:\n",
    "```\n",
    ">>> ganancia_dB(1, 1000)\n",
    "60.0\n",
    ">>> ganancia_dB(10, 1000)\n",
    "40.0\n",
    ">>> ganancia_dB(1, 1)\n",
    "0.0\n",
    ">>> ganancia_dB(10, 1)\n",
    "-20.0 \n",
    "```\n",
    "La función incluye el string de prueba (doctest) en el docstring y la llamada a la función testmod.\n"
   ]
  },
  {
   "cell_type": "code",
   "execution_count": 1,
   "metadata": {},
   "outputs": [
    {
     "name": "stdout",
     "output_type": "stream",
     "text": [
      "Trying:\n",
      "    ganancia_dB(1, 1000)\n",
      "Expecting:\n",
      "    60.0\n",
      "ok\n",
      "Trying:\n",
      "    ganancia_dB(10, 1000)\n",
      "Expecting:\n",
      "    40.0\n",
      "ok\n",
      "Trying:\n",
      "    ganancia_dB(1, 1)\n",
      "Expecting:\n",
      "    0.0\n",
      "ok\n",
      "Trying:\n",
      "    ganancia_dB(10, 1)\n",
      "Expecting:\n",
      "    -20.0\n",
      "ok\n",
      "1 items had no tests:\n",
      "    __main__\n",
      "1 items passed all tests:\n",
      "   4 tests in __main__.ganancia_dB\n",
      "4 tests in 2 items.\n",
      "4 passed and 0 failed.\n",
      "Test passed.\n"
     ]
    },
    {
     "data": {
      "text/plain": [
       "TestResults(failed=0, attempted=4)"
      ]
     },
     "execution_count": 1,
     "metadata": {},
     "output_type": "execute_result"
    }
   ],
   "source": [
    "from math import log10\n",
    "\n",
    "def ganancia_dB(x, y):\n",
    "    \"\"\"Calcula ganancia en dB: 20 * log(y / x)\n",
    "    >>> ganancia_dB(1, 1000)\n",
    "    60.0\n",
    "    >>> ganancia_dB(10, 1000)\n",
    "    40.0\n",
    "    >>> ganancia_dB(1, 1)\n",
    "    0.0\n",
    "    >>> ganancia_dB(10, 1)\n",
    "    -20.0\n",
    "    \"\"\"\n",
    "    return 20 * log10(y / x)\n",
    "\n",
    "import doctest\n",
    "doctest.testmod(verbose=True)"
   ]
  },
  {
   "cell_type": "markdown",
   "metadata": {},
   "source": [
    "<p style=\"text-align: center\"><a rel=\"license\" href=\"http://creativecommons.org/licenses/by/4.0/\"><img alt=\"Licencia Creative Commons\" style=\"border-width:0\" src=\"https://i.creativecommons.org/l/by/4.0/80x15.png\" /></a><br />Esta obra está bajo una <a rel=\"license\" href=\"http://creativecommons.org/licenses/by/4.0/\">Licencia Creative Commons Atribución 4.0 Internacional</a>.</p>\n",
    "<p style=\"text-align: center\">&copy; José Luis Chiquete Valdivieso. 2018.</p>"
   ]
  }
 ],
 "metadata": {
  "kernelspec": {
   "display_name": "Python 3",
   "language": "python",
   "name": "python3"
  },
  "language_info": {
   "codemirror_mode": {
    "name": "ipython",
    "version": 3
   },
   "file_extension": ".py",
   "mimetype": "text/x-python",
   "name": "python",
   "nbconvert_exporter": "python",
   "pygments_lexer": "ipython3",
   "version": "3.8.2"
  }
 },
 "nbformat": 4,
 "nbformat_minor": 2
}
